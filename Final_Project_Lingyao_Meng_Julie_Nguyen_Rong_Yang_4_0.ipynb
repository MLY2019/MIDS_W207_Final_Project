{
  "nbformat": 4,
  "nbformat_minor": 0,
  "metadata": {
    "colab": {
      "name": "Final_Project_Lingyao_Meng_Julie_Nguyen_Rong_Yang_3.0.ipynb",
      "provenance": [],
      "collapsed_sections": []
    },
    "kernelspec": {
      "display_name": "Python 3",
      "language": "python",
      "name": "python3"
    },
    "language_info": {
      "codemirror_mode": {
        "name": "ipython",
        "version": 3
      },
      "file_extension": ".py",
      "mimetype": "text/x-python",
      "name": "python",
      "nbconvert_exporter": "python",
      "pygments_lexer": "ipython3",
      "version": "3.7.3"
    }
  },
  "cells": [
    {
      "cell_type": "markdown",
      "metadata": {
        "colab_type": "text",
        "id": "GuTXkNvmOT1Z"
      },
      "source": [
        "## MIDS W207 Final Project: Home Price Prediction"
      ]
    },
    {
      "cell_type": "markdown",
      "metadata": {
        "colab_type": "text",
        "id": "Ir4W_W1TOT1b"
      },
      "source": [
        "### Import packages"
      ]
    },
    {
      "cell_type": "code",
      "metadata": {
        "colab_type": "code",
        "id": "VNAm7N4EOT1c",
        "colab": {}
      },
      "source": [
        "import numpy as np\n",
        "import pandas as pd\n",
        "import matplotlib.pyplot as plt\n",
        "import seaborn as sns\n",
        "from sklearn import preprocessing\n",
        "from sklearn import linear_model\n",
        "from sklearn.linear_model import LinearRegression\n",
        "from sklearn import metrics\n",
        "from sklearn.naive_bayes import GaussianNB\n",
        "from sklearn.neighbors import KNeighborsClassifier\n",
        "from scipy.stats import pearsonr\n",
        "from sklearn.decomposition import PCA"
      ],
      "execution_count": 0,
      "outputs": []
    },
    {
      "cell_type": "markdown",
      "metadata": {
        "colab_type": "text",
        "id": "dZpxd-yEOT1h"
      },
      "source": [
        "### Load data "
      ]
    },
    {
      "cell_type": "code",
      "metadata": {
        "colab_type": "code",
        "id": "qfMWT67KOT1i",
        "colab": {}
      },
      "source": [
        "df = pd.read_csv('train.csv')"
      ],
      "execution_count": 0,
      "outputs": []
    },
    {
      "cell_type": "code",
      "metadata": {
        "colab_type": "code",
        "id": "g5-58J23OT1l",
        "outputId": "269d22a0-be34-4da6-9640-9c3ad3ac1cba",
        "colab": {
          "base_uri": "https://localhost:8080/",
          "height": 253
        }
      },
      "source": [
        "df.head()"
      ],
      "execution_count": 6,
      "outputs": [
        {
          "output_type": "execute_result",
          "data": {
            "text/html": [
              "<div>\n",
              "<style scoped>\n",
              "    .dataframe tbody tr th:only-of-type {\n",
              "        vertical-align: middle;\n",
              "    }\n",
              "\n",
              "    .dataframe tbody tr th {\n",
              "        vertical-align: top;\n",
              "    }\n",
              "\n",
              "    .dataframe thead th {\n",
              "        text-align: right;\n",
              "    }\n",
              "</style>\n",
              "<table border=\"1\" class=\"dataframe\">\n",
              "  <thead>\n",
              "    <tr style=\"text-align: right;\">\n",
              "      <th></th>\n",
              "      <th>Id</th>\n",
              "      <th>MSSubClass</th>\n",
              "      <th>MSZoning</th>\n",
              "      <th>LotFrontage</th>\n",
              "      <th>LotArea</th>\n",
              "      <th>Street</th>\n",
              "      <th>Alley</th>\n",
              "      <th>LotShape</th>\n",
              "      <th>LandContour</th>\n",
              "      <th>Utilities</th>\n",
              "      <th>LotConfig</th>\n",
              "      <th>LandSlope</th>\n",
              "      <th>Neighborhood</th>\n",
              "      <th>Condition1</th>\n",
              "      <th>Condition2</th>\n",
              "      <th>BldgType</th>\n",
              "      <th>HouseStyle</th>\n",
              "      <th>OverallQual</th>\n",
              "      <th>OverallCond</th>\n",
              "      <th>YearBuilt</th>\n",
              "      <th>YearRemodAdd</th>\n",
              "      <th>RoofStyle</th>\n",
              "      <th>RoofMatl</th>\n",
              "      <th>Exterior1st</th>\n",
              "      <th>Exterior2nd</th>\n",
              "      <th>MasVnrType</th>\n",
              "      <th>MasVnrArea</th>\n",
              "      <th>ExterQual</th>\n",
              "      <th>ExterCond</th>\n",
              "      <th>Foundation</th>\n",
              "      <th>BsmtQual</th>\n",
              "      <th>BsmtCond</th>\n",
              "      <th>BsmtExposure</th>\n",
              "      <th>BsmtFinType1</th>\n",
              "      <th>BsmtFinSF1</th>\n",
              "      <th>BsmtFinType2</th>\n",
              "      <th>BsmtFinSF2</th>\n",
              "      <th>BsmtUnfSF</th>\n",
              "      <th>TotalBsmtSF</th>\n",
              "      <th>Heating</th>\n",
              "      <th>...</th>\n",
              "      <th>CentralAir</th>\n",
              "      <th>Electrical</th>\n",
              "      <th>1stFlrSF</th>\n",
              "      <th>2ndFlrSF</th>\n",
              "      <th>LowQualFinSF</th>\n",
              "      <th>GrLivArea</th>\n",
              "      <th>BsmtFullBath</th>\n",
              "      <th>BsmtHalfBath</th>\n",
              "      <th>FullBath</th>\n",
              "      <th>HalfBath</th>\n",
              "      <th>BedroomAbvGr</th>\n",
              "      <th>KitchenAbvGr</th>\n",
              "      <th>KitchenQual</th>\n",
              "      <th>TotRmsAbvGrd</th>\n",
              "      <th>Functional</th>\n",
              "      <th>Fireplaces</th>\n",
              "      <th>FireplaceQu</th>\n",
              "      <th>GarageType</th>\n",
              "      <th>GarageYrBlt</th>\n",
              "      <th>GarageFinish</th>\n",
              "      <th>GarageCars</th>\n",
              "      <th>GarageArea</th>\n",
              "      <th>GarageQual</th>\n",
              "      <th>GarageCond</th>\n",
              "      <th>PavedDrive</th>\n",
              "      <th>WoodDeckSF</th>\n",
              "      <th>OpenPorchSF</th>\n",
              "      <th>EnclosedPorch</th>\n",
              "      <th>3SsnPorch</th>\n",
              "      <th>ScreenPorch</th>\n",
              "      <th>PoolArea</th>\n",
              "      <th>PoolQC</th>\n",
              "      <th>Fence</th>\n",
              "      <th>MiscFeature</th>\n",
              "      <th>MiscVal</th>\n",
              "      <th>MoSold</th>\n",
              "      <th>YrSold</th>\n",
              "      <th>SaleType</th>\n",
              "      <th>SaleCondition</th>\n",
              "      <th>SalePrice</th>\n",
              "    </tr>\n",
              "  </thead>\n",
              "  <tbody>\n",
              "    <tr>\n",
              "      <th>0</th>\n",
              "      <td>1</td>\n",
              "      <td>60</td>\n",
              "      <td>RL</td>\n",
              "      <td>65.0</td>\n",
              "      <td>8450</td>\n",
              "      <td>Pave</td>\n",
              "      <td>NaN</td>\n",
              "      <td>Reg</td>\n",
              "      <td>Lvl</td>\n",
              "      <td>AllPub</td>\n",
              "      <td>Inside</td>\n",
              "      <td>Gtl</td>\n",
              "      <td>CollgCr</td>\n",
              "      <td>Norm</td>\n",
              "      <td>Norm</td>\n",
              "      <td>1Fam</td>\n",
              "      <td>2Story</td>\n",
              "      <td>7</td>\n",
              "      <td>5</td>\n",
              "      <td>2003</td>\n",
              "      <td>2003</td>\n",
              "      <td>Gable</td>\n",
              "      <td>CompShg</td>\n",
              "      <td>VinylSd</td>\n",
              "      <td>VinylSd</td>\n",
              "      <td>BrkFace</td>\n",
              "      <td>196.0</td>\n",
              "      <td>Gd</td>\n",
              "      <td>TA</td>\n",
              "      <td>PConc</td>\n",
              "      <td>Gd</td>\n",
              "      <td>TA</td>\n",
              "      <td>No</td>\n",
              "      <td>GLQ</td>\n",
              "      <td>706</td>\n",
              "      <td>Unf</td>\n",
              "      <td>0</td>\n",
              "      <td>150</td>\n",
              "      <td>856</td>\n",
              "      <td>GasA</td>\n",
              "      <td>...</td>\n",
              "      <td>Y</td>\n",
              "      <td>SBrkr</td>\n",
              "      <td>856</td>\n",
              "      <td>854</td>\n",
              "      <td>0</td>\n",
              "      <td>1710</td>\n",
              "      <td>1</td>\n",
              "      <td>0</td>\n",
              "      <td>2</td>\n",
              "      <td>1</td>\n",
              "      <td>3</td>\n",
              "      <td>1</td>\n",
              "      <td>Gd</td>\n",
              "      <td>8</td>\n",
              "      <td>Typ</td>\n",
              "      <td>0</td>\n",
              "      <td>NaN</td>\n",
              "      <td>Attchd</td>\n",
              "      <td>2003.0</td>\n",
              "      <td>RFn</td>\n",
              "      <td>2</td>\n",
              "      <td>548</td>\n",
              "      <td>TA</td>\n",
              "      <td>TA</td>\n",
              "      <td>Y</td>\n",
              "      <td>0</td>\n",
              "      <td>61</td>\n",
              "      <td>0</td>\n",
              "      <td>0</td>\n",
              "      <td>0</td>\n",
              "      <td>0</td>\n",
              "      <td>NaN</td>\n",
              "      <td>NaN</td>\n",
              "      <td>NaN</td>\n",
              "      <td>0</td>\n",
              "      <td>2</td>\n",
              "      <td>2008</td>\n",
              "      <td>WD</td>\n",
              "      <td>Normal</td>\n",
              "      <td>208500</td>\n",
              "    </tr>\n",
              "    <tr>\n",
              "      <th>1</th>\n",
              "      <td>2</td>\n",
              "      <td>20</td>\n",
              "      <td>RL</td>\n",
              "      <td>80.0</td>\n",
              "      <td>9600</td>\n",
              "      <td>Pave</td>\n",
              "      <td>NaN</td>\n",
              "      <td>Reg</td>\n",
              "      <td>Lvl</td>\n",
              "      <td>AllPub</td>\n",
              "      <td>FR2</td>\n",
              "      <td>Gtl</td>\n",
              "      <td>Veenker</td>\n",
              "      <td>Feedr</td>\n",
              "      <td>Norm</td>\n",
              "      <td>1Fam</td>\n",
              "      <td>1Story</td>\n",
              "      <td>6</td>\n",
              "      <td>8</td>\n",
              "      <td>1976</td>\n",
              "      <td>1976</td>\n",
              "      <td>Gable</td>\n",
              "      <td>CompShg</td>\n",
              "      <td>MetalSd</td>\n",
              "      <td>MetalSd</td>\n",
              "      <td>None</td>\n",
              "      <td>0.0</td>\n",
              "      <td>TA</td>\n",
              "      <td>TA</td>\n",
              "      <td>CBlock</td>\n",
              "      <td>Gd</td>\n",
              "      <td>TA</td>\n",
              "      <td>Gd</td>\n",
              "      <td>ALQ</td>\n",
              "      <td>978</td>\n",
              "      <td>Unf</td>\n",
              "      <td>0</td>\n",
              "      <td>284</td>\n",
              "      <td>1262</td>\n",
              "      <td>GasA</td>\n",
              "      <td>...</td>\n",
              "      <td>Y</td>\n",
              "      <td>SBrkr</td>\n",
              "      <td>1262</td>\n",
              "      <td>0</td>\n",
              "      <td>0</td>\n",
              "      <td>1262</td>\n",
              "      <td>0</td>\n",
              "      <td>1</td>\n",
              "      <td>2</td>\n",
              "      <td>0</td>\n",
              "      <td>3</td>\n",
              "      <td>1</td>\n",
              "      <td>TA</td>\n",
              "      <td>6</td>\n",
              "      <td>Typ</td>\n",
              "      <td>1</td>\n",
              "      <td>TA</td>\n",
              "      <td>Attchd</td>\n",
              "      <td>1976.0</td>\n",
              "      <td>RFn</td>\n",
              "      <td>2</td>\n",
              "      <td>460</td>\n",
              "      <td>TA</td>\n",
              "      <td>TA</td>\n",
              "      <td>Y</td>\n",
              "      <td>298</td>\n",
              "      <td>0</td>\n",
              "      <td>0</td>\n",
              "      <td>0</td>\n",
              "      <td>0</td>\n",
              "      <td>0</td>\n",
              "      <td>NaN</td>\n",
              "      <td>NaN</td>\n",
              "      <td>NaN</td>\n",
              "      <td>0</td>\n",
              "      <td>5</td>\n",
              "      <td>2007</td>\n",
              "      <td>WD</td>\n",
              "      <td>Normal</td>\n",
              "      <td>181500</td>\n",
              "    </tr>\n",
              "    <tr>\n",
              "      <th>2</th>\n",
              "      <td>3</td>\n",
              "      <td>60</td>\n",
              "      <td>RL</td>\n",
              "      <td>68.0</td>\n",
              "      <td>11250</td>\n",
              "      <td>Pave</td>\n",
              "      <td>NaN</td>\n",
              "      <td>IR1</td>\n",
              "      <td>Lvl</td>\n",
              "      <td>AllPub</td>\n",
              "      <td>Inside</td>\n",
              "      <td>Gtl</td>\n",
              "      <td>CollgCr</td>\n",
              "      <td>Norm</td>\n",
              "      <td>Norm</td>\n",
              "      <td>1Fam</td>\n",
              "      <td>2Story</td>\n",
              "      <td>7</td>\n",
              "      <td>5</td>\n",
              "      <td>2001</td>\n",
              "      <td>2002</td>\n",
              "      <td>Gable</td>\n",
              "      <td>CompShg</td>\n",
              "      <td>VinylSd</td>\n",
              "      <td>VinylSd</td>\n",
              "      <td>BrkFace</td>\n",
              "      <td>162.0</td>\n",
              "      <td>Gd</td>\n",
              "      <td>TA</td>\n",
              "      <td>PConc</td>\n",
              "      <td>Gd</td>\n",
              "      <td>TA</td>\n",
              "      <td>Mn</td>\n",
              "      <td>GLQ</td>\n",
              "      <td>486</td>\n",
              "      <td>Unf</td>\n",
              "      <td>0</td>\n",
              "      <td>434</td>\n",
              "      <td>920</td>\n",
              "      <td>GasA</td>\n",
              "      <td>...</td>\n",
              "      <td>Y</td>\n",
              "      <td>SBrkr</td>\n",
              "      <td>920</td>\n",
              "      <td>866</td>\n",
              "      <td>0</td>\n",
              "      <td>1786</td>\n",
              "      <td>1</td>\n",
              "      <td>0</td>\n",
              "      <td>2</td>\n",
              "      <td>1</td>\n",
              "      <td>3</td>\n",
              "      <td>1</td>\n",
              "      <td>Gd</td>\n",
              "      <td>6</td>\n",
              "      <td>Typ</td>\n",
              "      <td>1</td>\n",
              "      <td>TA</td>\n",
              "      <td>Attchd</td>\n",
              "      <td>2001.0</td>\n",
              "      <td>RFn</td>\n",
              "      <td>2</td>\n",
              "      <td>608</td>\n",
              "      <td>TA</td>\n",
              "      <td>TA</td>\n",
              "      <td>Y</td>\n",
              "      <td>0</td>\n",
              "      <td>42</td>\n",
              "      <td>0</td>\n",
              "      <td>0</td>\n",
              "      <td>0</td>\n",
              "      <td>0</td>\n",
              "      <td>NaN</td>\n",
              "      <td>NaN</td>\n",
              "      <td>NaN</td>\n",
              "      <td>0</td>\n",
              "      <td>9</td>\n",
              "      <td>2008</td>\n",
              "      <td>WD</td>\n",
              "      <td>Normal</td>\n",
              "      <td>223500</td>\n",
              "    </tr>\n",
              "    <tr>\n",
              "      <th>3</th>\n",
              "      <td>4</td>\n",
              "      <td>70</td>\n",
              "      <td>RL</td>\n",
              "      <td>60.0</td>\n",
              "      <td>9550</td>\n",
              "      <td>Pave</td>\n",
              "      <td>NaN</td>\n",
              "      <td>IR1</td>\n",
              "      <td>Lvl</td>\n",
              "      <td>AllPub</td>\n",
              "      <td>Corner</td>\n",
              "      <td>Gtl</td>\n",
              "      <td>Crawfor</td>\n",
              "      <td>Norm</td>\n",
              "      <td>Norm</td>\n",
              "      <td>1Fam</td>\n",
              "      <td>2Story</td>\n",
              "      <td>7</td>\n",
              "      <td>5</td>\n",
              "      <td>1915</td>\n",
              "      <td>1970</td>\n",
              "      <td>Gable</td>\n",
              "      <td>CompShg</td>\n",
              "      <td>Wd Sdng</td>\n",
              "      <td>Wd Shng</td>\n",
              "      <td>None</td>\n",
              "      <td>0.0</td>\n",
              "      <td>TA</td>\n",
              "      <td>TA</td>\n",
              "      <td>BrkTil</td>\n",
              "      <td>TA</td>\n",
              "      <td>Gd</td>\n",
              "      <td>No</td>\n",
              "      <td>ALQ</td>\n",
              "      <td>216</td>\n",
              "      <td>Unf</td>\n",
              "      <td>0</td>\n",
              "      <td>540</td>\n",
              "      <td>756</td>\n",
              "      <td>GasA</td>\n",
              "      <td>...</td>\n",
              "      <td>Y</td>\n",
              "      <td>SBrkr</td>\n",
              "      <td>961</td>\n",
              "      <td>756</td>\n",
              "      <td>0</td>\n",
              "      <td>1717</td>\n",
              "      <td>1</td>\n",
              "      <td>0</td>\n",
              "      <td>1</td>\n",
              "      <td>0</td>\n",
              "      <td>3</td>\n",
              "      <td>1</td>\n",
              "      <td>Gd</td>\n",
              "      <td>7</td>\n",
              "      <td>Typ</td>\n",
              "      <td>1</td>\n",
              "      <td>Gd</td>\n",
              "      <td>Detchd</td>\n",
              "      <td>1998.0</td>\n",
              "      <td>Unf</td>\n",
              "      <td>3</td>\n",
              "      <td>642</td>\n",
              "      <td>TA</td>\n",
              "      <td>TA</td>\n",
              "      <td>Y</td>\n",
              "      <td>0</td>\n",
              "      <td>35</td>\n",
              "      <td>272</td>\n",
              "      <td>0</td>\n",
              "      <td>0</td>\n",
              "      <td>0</td>\n",
              "      <td>NaN</td>\n",
              "      <td>NaN</td>\n",
              "      <td>NaN</td>\n",
              "      <td>0</td>\n",
              "      <td>2</td>\n",
              "      <td>2006</td>\n",
              "      <td>WD</td>\n",
              "      <td>Abnorml</td>\n",
              "      <td>140000</td>\n",
              "    </tr>\n",
              "    <tr>\n",
              "      <th>4</th>\n",
              "      <td>5</td>\n",
              "      <td>60</td>\n",
              "      <td>RL</td>\n",
              "      <td>84.0</td>\n",
              "      <td>14260</td>\n",
              "      <td>Pave</td>\n",
              "      <td>NaN</td>\n",
              "      <td>IR1</td>\n",
              "      <td>Lvl</td>\n",
              "      <td>AllPub</td>\n",
              "      <td>FR2</td>\n",
              "      <td>Gtl</td>\n",
              "      <td>NoRidge</td>\n",
              "      <td>Norm</td>\n",
              "      <td>Norm</td>\n",
              "      <td>1Fam</td>\n",
              "      <td>2Story</td>\n",
              "      <td>8</td>\n",
              "      <td>5</td>\n",
              "      <td>2000</td>\n",
              "      <td>2000</td>\n",
              "      <td>Gable</td>\n",
              "      <td>CompShg</td>\n",
              "      <td>VinylSd</td>\n",
              "      <td>VinylSd</td>\n",
              "      <td>BrkFace</td>\n",
              "      <td>350.0</td>\n",
              "      <td>Gd</td>\n",
              "      <td>TA</td>\n",
              "      <td>PConc</td>\n",
              "      <td>Gd</td>\n",
              "      <td>TA</td>\n",
              "      <td>Av</td>\n",
              "      <td>GLQ</td>\n",
              "      <td>655</td>\n",
              "      <td>Unf</td>\n",
              "      <td>0</td>\n",
              "      <td>490</td>\n",
              "      <td>1145</td>\n",
              "      <td>GasA</td>\n",
              "      <td>...</td>\n",
              "      <td>Y</td>\n",
              "      <td>SBrkr</td>\n",
              "      <td>1145</td>\n",
              "      <td>1053</td>\n",
              "      <td>0</td>\n",
              "      <td>2198</td>\n",
              "      <td>1</td>\n",
              "      <td>0</td>\n",
              "      <td>2</td>\n",
              "      <td>1</td>\n",
              "      <td>4</td>\n",
              "      <td>1</td>\n",
              "      <td>Gd</td>\n",
              "      <td>9</td>\n",
              "      <td>Typ</td>\n",
              "      <td>1</td>\n",
              "      <td>TA</td>\n",
              "      <td>Attchd</td>\n",
              "      <td>2000.0</td>\n",
              "      <td>RFn</td>\n",
              "      <td>3</td>\n",
              "      <td>836</td>\n",
              "      <td>TA</td>\n",
              "      <td>TA</td>\n",
              "      <td>Y</td>\n",
              "      <td>192</td>\n",
              "      <td>84</td>\n",
              "      <td>0</td>\n",
              "      <td>0</td>\n",
              "      <td>0</td>\n",
              "      <td>0</td>\n",
              "      <td>NaN</td>\n",
              "      <td>NaN</td>\n",
              "      <td>NaN</td>\n",
              "      <td>0</td>\n",
              "      <td>12</td>\n",
              "      <td>2008</td>\n",
              "      <td>WD</td>\n",
              "      <td>Normal</td>\n",
              "      <td>250000</td>\n",
              "    </tr>\n",
              "  </tbody>\n",
              "</table>\n",
              "<p>5 rows × 81 columns</p>\n",
              "</div>"
            ],
            "text/plain": [
              "   Id  MSSubClass MSZoning  ...  SaleType  SaleCondition SalePrice\n",
              "0   1          60       RL  ...        WD         Normal    208500\n",
              "1   2          20       RL  ...        WD         Normal    181500\n",
              "2   3          60       RL  ...        WD         Normal    223500\n",
              "3   4          70       RL  ...        WD        Abnorml    140000\n",
              "4   5          60       RL  ...        WD         Normal    250000\n",
              "\n",
              "[5 rows x 81 columns]"
            ]
          },
          "metadata": {
            "tags": []
          },
          "execution_count": 6
        }
      ]
    },
    {
      "cell_type": "code",
      "metadata": {
        "colab_type": "code",
        "id": "YBXK9ISPOT1o",
        "outputId": "795f6168-216b-404d-87d1-2c7919a57eaa",
        "colab": {
          "base_uri": "https://localhost:8080/",
          "height": 34
        }
      },
      "source": [
        "df.shape"
      ],
      "execution_count": 7,
      "outputs": [
        {
          "output_type": "execute_result",
          "data": {
            "text/plain": [
              "(1460, 81)"
            ]
          },
          "metadata": {
            "tags": []
          },
          "execution_count": 7
        }
      ]
    },
    {
      "cell_type": "markdown",
      "metadata": {
        "id": "Ogxh4zi-1_kN",
        "colab_type": "text"
      },
      "source": [
        "### Split data into train and dev set"
      ]
    },
    {
      "cell_type": "code",
      "metadata": {
        "id": "ipuBpzOx1_kO",
        "colab_type": "code",
        "colab": {}
      },
      "source": [
        "train_y = np.log(df[:1000]['SalePrice'])\n",
        "dev_y = np.log(df[1000:]['SalePrice'])\n",
        "train_data = df[:1000].drop(['SalePrice', 'Id'], axis = 1)\n",
        "dev_data = df[1000:].drop(['SalePrice', 'Id'], axis = 1)"
      ],
      "execution_count": 0,
      "outputs": []
    },
    {
      "cell_type": "code",
      "metadata": {
        "id": "cKRC8V231_kR",
        "colab_type": "code",
        "colab": {
          "base_uri": "https://localhost:8080/",
          "height": 34
        },
        "outputId": "6475bf1f-859a-4edb-c057-479346dcf5fd"
      },
      "source": [
        "train_y.shape"
      ],
      "execution_count": 9,
      "outputs": [
        {
          "output_type": "execute_result",
          "data": {
            "text/plain": [
              "(1000,)"
            ]
          },
          "metadata": {
            "tags": []
          },
          "execution_count": 9
        }
      ]
    },
    {
      "cell_type": "code",
      "metadata": {
        "id": "g6SjG3bz1_kU",
        "colab_type": "code",
        "colab": {
          "base_uri": "https://localhost:8080/",
          "height": 34
        },
        "outputId": "bb70a782-4511-49ab-dd73-6b01727b9714"
      },
      "source": [
        "dev_y.shape"
      ],
      "execution_count": 10,
      "outputs": [
        {
          "output_type": "execute_result",
          "data": {
            "text/plain": [
              "(460,)"
            ]
          },
          "metadata": {
            "tags": []
          },
          "execution_count": 10
        }
      ]
    },
    {
      "cell_type": "code",
      "metadata": {
        "id": "D8ZDtD6d1_kY",
        "colab_type": "code",
        "colab": {
          "base_uri": "https://localhost:8080/",
          "height": 34
        },
        "outputId": "d355caeb-ae56-4a89-d2eb-d05e72d39cae"
      },
      "source": [
        "train_data.shape"
      ],
      "execution_count": 11,
      "outputs": [
        {
          "output_type": "execute_result",
          "data": {
            "text/plain": [
              "(1000, 79)"
            ]
          },
          "metadata": {
            "tags": []
          },
          "execution_count": 11
        }
      ]
    },
    {
      "cell_type": "code",
      "metadata": {
        "id": "KeazrqlM1_kb",
        "colab_type": "code",
        "colab": {
          "base_uri": "https://localhost:8080/",
          "height": 34
        },
        "outputId": "123be0bb-7289-4f18-f3a3-775944c53658"
      },
      "source": [
        "dev_data.shape"
      ],
      "execution_count": 12,
      "outputs": [
        {
          "output_type": "execute_result",
          "data": {
            "text/plain": [
              "(460, 79)"
            ]
          },
          "metadata": {
            "tags": []
          },
          "execution_count": 12
        }
      ]
    },
    {
      "cell_type": "markdown",
      "metadata": {
        "colab_type": "text",
        "id": "VAZCSV2fOT1r"
      },
      "source": [
        "### EDA and data cleaning"
      ]
    },
    {
      "cell_type": "code",
      "metadata": {
        "id": "MtT-bBx31_ke",
        "colab_type": "code",
        "colab": {
          "base_uri": "https://localhost:8080/",
          "height": 673
        },
        "outputId": "227997fb-3c52-41e0-eb85-b1f5fa8613c1"
      },
      "source": [
        "plt.hist(df[:1000]['SalePrice'], bins = 100)"
      ],
      "execution_count": 13,
      "outputs": [
        {
          "output_type": "execute_result",
          "data": {
            "text/plain": [
              "(array([ 5.,  0.,  3.,  4.,  4.,  6., 18., 20., 17., 22., 45., 39., 51.,\n",
              "        64., 59., 61., 45., 41., 38., 50., 45., 35., 26., 26., 23., 23.,\n",
              "        23., 19., 19., 15., 13., 13., 14., 11.,  8.,  4.,  4.,  6.,  9.,\n",
              "        11.,  7.,  3.,  5.,  5.,  1.,  3.,  4.,  4.,  4.,  2.,  3.,  2.,\n",
              "         2.,  1.,  2.,  1.,  2.,  2.,  0.,  0.,  0.,  1.,  1.,  0.,  1.,\n",
              "         0.,  0.,  0.,  0.,  1.,  0.,  0.,  1.,  0.,  0.,  0.,  1.,  0.,\n",
              "         0.,  0.,  1.,  0.,  0.,  0.,  0.,  0.,  0.,  0.,  0.,  0.,  0.,\n",
              "         0.,  0.,  0.,  0.,  0.,  0.,  0.,  0.,  1.]),\n",
              " array([ 34900.,  42101.,  49302.,  56503.,  63704.,  70905.,  78106.,\n",
              "         85307.,  92508.,  99709., 106910., 114111., 121312., 128513.,\n",
              "        135714., 142915., 150116., 157317., 164518., 171719., 178920.,\n",
              "        186121., 193322., 200523., 207724., 214925., 222126., 229327.,\n",
              "        236528., 243729., 250930., 258131., 265332., 272533., 279734.,\n",
              "        286935., 294136., 301337., 308538., 315739., 322940., 330141.,\n",
              "        337342., 344543., 351744., 358945., 366146., 373347., 380548.,\n",
              "        387749., 394950., 402151., 409352., 416553., 423754., 430955.,\n",
              "        438156., 445357., 452558., 459759., 466960., 474161., 481362.,\n",
              "        488563., 495764., 502965., 510166., 517367., 524568., 531769.,\n",
              "        538970., 546171., 553372., 560573., 567774., 574975., 582176.,\n",
              "        589377., 596578., 603779., 610980., 618181., 625382., 632583.,\n",
              "        639784., 646985., 654186., 661387., 668588., 675789., 682990.,\n",
              "        690191., 697392., 704593., 711794., 718995., 726196., 733397.,\n",
              "        740598., 747799., 755000.]),\n",
              " <a list of 100 Patch objects>)"
            ]
          },
          "metadata": {
            "tags": []
          },
          "execution_count": 13
        },
        {
          "output_type": "display_data",
          "data": {
            "image/png": "[encoded data removed]",
            "text/plain": [
              "<Figure size 432x288 with 1 Axes>"
            ]
          },
          "metadata": {
            "tags": [],
            "needs_background": "light"
          }
        }
      ]
    },
    {
      "cell_type": "code",
      "metadata": {
        "id": "pLN2LQds1_kg",
        "colab_type": "code",
        "colab": {
          "base_uri": "https://localhost:8080/",
          "height": 775
        },
        "outputId": "3e0f0063-cb17-45e6-c9dc-30298767dae9"
      },
      "source": [
        "plt.hist(np.log(df[:1000]['SalePrice']), bins = 100)"
      ],
      "execution_count": 14,
      "outputs": [
        {
          "output_type": "execute_result",
          "data": {
            "text/plain": [
              "(array([ 2.,  0.,  1.,  1.,  1.,  0.,  0.,  0.,  0.,  0.,  0.,  0.,  1.,\n",
              "         0.,  1.,  1.,  0.,  2.,  2.,  0.,  1.,  3.,  0.,  0.,  2.,  3.,\n",
              "         7.,  6.,  6.,  8.,  9.,  5.,  4., 10., 10.,  7., 19., 26., 16.,\n",
              "        19., 18., 23., 42., 29., 38., 45., 35., 28., 32., 31., 29., 26.,\n",
              "        40., 32., 32., 27., 22., 22., 21., 19., 22., 18., 26.,  9., 18.,\n",
              "        15., 14., 14.,  9.,  3.,  8., 14., 12.,  4.,  9.,  3.,  3.,  6.,\n",
              "         8.,  3.,  2.,  3.,  4.,  1.,  1.,  1.,  1.,  0.,  1.,  1.,  0.,\n",
              "         1.,  0.,  1.,  0.,  0.,  0.,  0.,  0.,  1.]),\n",
              " array([10.46024211, 10.49098442, 10.52172673, 10.55246904, 10.58321134,\n",
              "        10.61395365, 10.64469596, 10.67543827, 10.70618058, 10.73692289,\n",
              "        10.7676652 , 10.79840751, 10.82914982, 10.85989213, 10.89063444,\n",
              "        10.92137675, 10.95211906, 10.98286136, 11.01360367, 11.04434598,\n",
              "        11.07508829, 11.1058306 , 11.13657291, 11.16731522, 11.19805753,\n",
              "        11.22879984, 11.25954215, 11.29028446, 11.32102677, 11.35176908,\n",
              "        11.38251138, 11.41325369, 11.443996  , 11.47473831, 11.50548062,\n",
              "        11.53622293, 11.56696524, 11.59770755, 11.62844986, 11.65919217,\n",
              "        11.68993448, 11.72067679, 11.75141909, 11.7821614 , 11.81290371,\n",
              "        11.84364602, 11.87438833, 11.90513064, 11.93587295, 11.96661526,\n",
              "        11.99735757, 12.02809988, 12.05884219, 12.0895845 , 12.12032681,\n",
              "        12.15106911, 12.18181142, 12.21255373, 12.24329604, 12.27403835,\n",
              "        12.30478066, 12.33552297, 12.36626528, 12.39700759, 12.4277499 ,\n",
              "        12.45849221, 12.48923452, 12.51997682, 12.55071913, 12.58146144,\n",
              "        12.61220375, 12.64294606, 12.67368837, 12.70443068, 12.73517299,\n",
              "        12.7659153 , 12.79665761, 12.82739992, 12.85814223, 12.88888454,\n",
              "        12.91962684, 12.95036915, 12.98111146, 13.01185377, 13.04259608,\n",
              "        13.07333839, 13.1040807 , 13.13482301, 13.16556532, 13.19630763,\n",
              "        13.22704994, 13.25779225, 13.28853455, 13.31927686, 13.35001917,\n",
              "        13.38076148, 13.41150379, 13.4422461 , 13.47298841, 13.50373072,\n",
              "        13.53447303]),\n",
              " <a list of 100 Patch objects>)"
            ]
          },
          "metadata": {
            "tags": []
          },
          "execution_count": 14
        },
        {
          "output_type": "display_data",
          "data": {
            "image/png": "[encoded data removed]",
            "text/plain": [
              "<Figure size 432x288 with 1 Axes>"
            ]
          },
          "metadata": {
            "tags": [],
            "needs_background": "light"
          }
        }
      ]
    },
    {
      "cell_type": "code",
      "metadata": {
        "colab_type": "code",
        "id": "iP4TW7oKOT1s",
        "outputId": "1cf87062-7f0b-4be7-8519-d999b2c591fb",
        "colab": {
          "base_uri": "https://localhost:8080/",
          "height": 1000
        }
      },
      "source": [
        "train_data.info()"
      ],
      "execution_count": 15,
      "outputs": [
        {
          "output_type": "stream",
          "text": [
            "<class 'pandas.core.frame.DataFrame'>\n",
            "RangeIndex: 1000 entries, 0 to 999\n",
            "Data columns (total 79 columns):\n",
            " #   Column         Non-Null Count  Dtype  \n",
            "---  ------         --------------  -----  \n",
            " 0   MSSubClass     1000 non-null   int64  \n",
            " 1   MSZoning       1000 non-null   object \n",
            " 2   LotFrontage    827 non-null    float64\n",
            " 3   LotArea        1000 non-null   int64  \n",
            " 4   Street         1000 non-null   object \n",
            " 5   Alley          65 non-null     object \n",
            " 6   LotShape       1000 non-null   object \n",
            " 7   LandContour    1000 non-null   object \n",
            " 8   Utilities      1000 non-null   object \n",
            " 9   LotConfig      1000 non-null   object \n",
            " 10  LandSlope      1000 non-null   object \n",
            " 11  Neighborhood   1000 non-null   object \n",
            " 12  Condition1     1000 non-null   object \n",
            " 13  Condition2     1000 non-null   object \n",
            " 14  BldgType       1000 non-null   object \n",
            " 15  HouseStyle     1000 non-null   object \n",
            " 16  OverallQual    1000 non-null   int64  \n",
            " 17  OverallCond    1000 non-null   int64  \n",
            " 18  YearBuilt      1000 non-null   int64  \n",
            " 19  YearRemodAdd   1000 non-null   int64  \n",
            " 20  RoofStyle      1000 non-null   object \n",
            " 21  RoofMatl       1000 non-null   object \n",
            " 22  Exterior1st    1000 non-null   object \n",
            " 23  Exterior2nd    1000 non-null   object \n",
            " 24  MasVnrType     994 non-null    object \n",
            " 25  MasVnrArea     994 non-null    float64\n",
            " 26  ExterQual      1000 non-null   object \n",
            " 27  ExterCond      1000 non-null   object \n",
            " 28  Foundation     1000 non-null   object \n",
            " 29  BsmtQual       976 non-null    object \n",
            " 30  BsmtCond       976 non-null    object \n",
            " 31  BsmtExposure   975 non-null    object \n",
            " 32  BsmtFinType1   976 non-null    object \n",
            " 33  BsmtFinSF1     1000 non-null   int64  \n",
            " 34  BsmtFinType2   975 non-null    object \n",
            " 35  BsmtFinSF2     1000 non-null   int64  \n",
            " 36  BsmtUnfSF      1000 non-null   int64  \n",
            " 37  TotalBsmtSF    1000 non-null   int64  \n",
            " 38  Heating        1000 non-null   object \n",
            " 39  HeatingQC      1000 non-null   object \n",
            " 40  CentralAir     1000 non-null   object \n",
            " 41  Electrical     1000 non-null   object \n",
            " 42  1stFlrSF       1000 non-null   int64  \n",
            " 43  2ndFlrSF       1000 non-null   int64  \n",
            " 44  LowQualFinSF   1000 non-null   int64  \n",
            " 45  GrLivArea      1000 non-null   int64  \n",
            " 46  BsmtFullBath   1000 non-null   int64  \n",
            " 47  BsmtHalfBath   1000 non-null   int64  \n",
            " 48  FullBath       1000 non-null   int64  \n",
            " 49  HalfBath       1000 non-null   int64  \n",
            " 50  BedroomAbvGr   1000 non-null   int64  \n",
            " 51  KitchenAbvGr   1000 non-null   int64  \n",
            " 52  KitchenQual    1000 non-null   object \n",
            " 53  TotRmsAbvGrd   1000 non-null   int64  \n",
            " 54  Functional     1000 non-null   object \n",
            " 55  Fireplaces     1000 non-null   int64  \n",
            " 56  FireplaceQu    522 non-null    object \n",
            " 57  GarageType     944 non-null    object \n",
            " 58  GarageYrBlt    944 non-null    float64\n",
            " 59  GarageFinish   944 non-null    object \n",
            " 60  GarageCars     1000 non-null   int64  \n",
            " 61  GarageArea     1000 non-null   int64  \n",
            " 62  GarageQual     944 non-null    object \n",
            " 63  GarageCond     944 non-null    object \n",
            " 64  PavedDrive     1000 non-null   object \n",
            " 65  WoodDeckSF     1000 non-null   int64  \n",
            " 66  OpenPorchSF    1000 non-null   int64  \n",
            " 67  EnclosedPorch  1000 non-null   int64  \n",
            " 68  3SsnPorch      1000 non-null   int64  \n",
            " 69  ScreenPorch    1000 non-null   int64  \n",
            " 70  PoolArea       1000 non-null   int64  \n",
            " 71  PoolQC         2 non-null      object \n",
            " 72  Fence          194 non-null    object \n",
            " 73  MiscFeature    43 non-null     object \n",
            " 74  MiscVal        1000 non-null   int64  \n",
            " 75  MoSold         1000 non-null   int64  \n",
            " 76  YrSold         1000 non-null   int64  \n",
            " 77  SaleType       1000 non-null   object \n",
            " 78  SaleCondition  1000 non-null   object \n",
            "dtypes: float64(3), int64(33), object(43)\n",
            "memory usage: 617.3+ KB\n"
          ],
          "name": "stdout"
        }
      ]
    },
    {
      "cell_type": "markdown",
      "metadata": {
        "id": "cQ9PYMLa1_km",
        "colab_type": "text"
      },
      "source": [
        "#### Identify missing data"
      ]
    },
    {
      "cell_type": "code",
      "metadata": {
        "colab_type": "code",
        "id": "vcadnYp6OT1w",
        "outputId": "5afd151e-ee69-4020-d25a-2155422a247d",
        "colab": {
          "base_uri": "https://localhost:8080/",
          "height": 669
        }
      },
      "source": [
        "# Identify the missing data and calculate the percentage by column.\n",
        "total = train_data.isnull().sum().sort_values(ascending=False)\n",
        "percent = (train_data.isnull().sum()/train_data.isnull().count()).sort_values(ascending=False)\n",
        "missing_data = pd.concat([total, percent], axis=1, keys=['Total', 'Percent'])\n",
        "missing_data.head(20)"
      ],
      "execution_count": 16,
      "outputs": [
        {
          "output_type": "execute_result",
          "data": {
            "text/html": [
              "<div>\n",
              "<style scoped>\n",
              "    .dataframe tbody tr th:only-of-type {\n",
              "        vertical-align: middle;\n",
              "    }\n",
              "\n",
              "    .dataframe tbody tr th {\n",
              "        vertical-align: top;\n",
              "    }\n",
              "\n",
              "    .dataframe thead th {\n",
              "        text-align: right;\n",
              "    }\n",
              "</style>\n",
              "<table border=\"1\" class=\"dataframe\">\n",
              "  <thead>\n",
              "    <tr style=\"text-align: right;\">\n",
              "      <th></th>\n",
              "      <th>Total</th>\n",
              "      <th>Percent</th>\n",
              "    </tr>\n",
              "  </thead>\n",
              "  <tbody>\n",
              "    <tr>\n",
              "      <th>PoolQC</th>\n",
              "      <td>998</td>\n",
              "      <td>0.998</td>\n",
              "    </tr>\n",
              "    <tr>\n",
              "      <th>MiscFeature</th>\n",
              "      <td>957</td>\n",
              "      <td>0.957</td>\n",
              "    </tr>\n",
              "    <tr>\n",
              "      <th>Alley</th>\n",
              "      <td>935</td>\n",
              "      <td>0.935</td>\n",
              "    </tr>\n",
              "    <tr>\n",
              "      <th>Fence</th>\n",
              "      <td>806</td>\n",
              "      <td>0.806</td>\n",
              "    </tr>\n",
              "    <tr>\n",
              "      <th>FireplaceQu</th>\n",
              "      <td>478</td>\n",
              "      <td>0.478</td>\n",
              "    </tr>\n",
              "    <tr>\n",
              "      <th>LotFrontage</th>\n",
              "      <td>173</td>\n",
              "      <td>0.173</td>\n",
              "    </tr>\n",
              "    <tr>\n",
              "      <th>GarageType</th>\n",
              "      <td>56</td>\n",
              "      <td>0.056</td>\n",
              "    </tr>\n",
              "    <tr>\n",
              "      <th>GarageFinish</th>\n",
              "      <td>56</td>\n",
              "      <td>0.056</td>\n",
              "    </tr>\n",
              "    <tr>\n",
              "      <th>GarageQual</th>\n",
              "      <td>56</td>\n",
              "      <td>0.056</td>\n",
              "    </tr>\n",
              "    <tr>\n",
              "      <th>GarageCond</th>\n",
              "      <td>56</td>\n",
              "      <td>0.056</td>\n",
              "    </tr>\n",
              "    <tr>\n",
              "      <th>GarageYrBlt</th>\n",
              "      <td>56</td>\n",
              "      <td>0.056</td>\n",
              "    </tr>\n",
              "    <tr>\n",
              "      <th>BsmtExposure</th>\n",
              "      <td>25</td>\n",
              "      <td>0.025</td>\n",
              "    </tr>\n",
              "    <tr>\n",
              "      <th>BsmtFinType2</th>\n",
              "      <td>25</td>\n",
              "      <td>0.025</td>\n",
              "    </tr>\n",
              "    <tr>\n",
              "      <th>BsmtCond</th>\n",
              "      <td>24</td>\n",
              "      <td>0.024</td>\n",
              "    </tr>\n",
              "    <tr>\n",
              "      <th>BsmtFinType1</th>\n",
              "      <td>24</td>\n",
              "      <td>0.024</td>\n",
              "    </tr>\n",
              "    <tr>\n",
              "      <th>BsmtQual</th>\n",
              "      <td>24</td>\n",
              "      <td>0.024</td>\n",
              "    </tr>\n",
              "    <tr>\n",
              "      <th>MasVnrArea</th>\n",
              "      <td>6</td>\n",
              "      <td>0.006</td>\n",
              "    </tr>\n",
              "    <tr>\n",
              "      <th>MasVnrType</th>\n",
              "      <td>6</td>\n",
              "      <td>0.006</td>\n",
              "    </tr>\n",
              "    <tr>\n",
              "      <th>RoofStyle</th>\n",
              "      <td>0</td>\n",
              "      <td>0.000</td>\n",
              "    </tr>\n",
              "    <tr>\n",
              "      <th>RoofMatl</th>\n",
              "      <td>0</td>\n",
              "      <td>0.000</td>\n",
              "    </tr>\n",
              "  </tbody>\n",
              "</table>\n",
              "</div>"
            ],
            "text/plain": [
              "              Total  Percent\n",
              "PoolQC          998    0.998\n",
              "MiscFeature     957    0.957\n",
              "Alley           935    0.935\n",
              "Fence           806    0.806\n",
              "FireplaceQu     478    0.478\n",
              "LotFrontage     173    0.173\n",
              "GarageType       56    0.056\n",
              "GarageFinish     56    0.056\n",
              "GarageQual       56    0.056\n",
              "GarageCond       56    0.056\n",
              "GarageYrBlt      56    0.056\n",
              "BsmtExposure     25    0.025\n",
              "BsmtFinType2     25    0.025\n",
              "BsmtCond         24    0.024\n",
              "BsmtFinType1     24    0.024\n",
              "BsmtQual         24    0.024\n",
              "MasVnrArea        6    0.006\n",
              "MasVnrType        6    0.006\n",
              "RoofStyle         0    0.000\n",
              "RoofMatl          0    0.000"
            ]
          },
          "metadata": {
            "tags": []
          },
          "execution_count": 16
        }
      ]
    },
    {
      "cell_type": "code",
      "metadata": {
        "id": "V9xRx6JZ1_kp",
        "colab_type": "code",
        "colab": {
          "base_uri": "https://localhost:8080/",
          "height": 639
        },
        "outputId": "95901ad4-452a-40f2-ded8-9a6ed742cd3a"
      },
      "source": [
        "plt.figure(figsize=(12,10))\n",
        "sns.barplot(x=missing_data[:18].index, y=missing_data[:18]['Percent'])\n",
        "plt.xticks(rotation=45)\n",
        "plt.show()"
      ],
      "execution_count": 17,
      "outputs": [
        {
          "output_type": "display_data",
          "data": {
            "image/png": "[encoded data removed]",
            "text/plain": [
              "<Figure size 864x720 with 1 Axes>"
            ]
          },
          "metadata": {
            "tags": [],
            "needs_background": "light"
          }
        }
      ]
    },
    {
      "cell_type": "markdown",
      "metadata": {
        "id": "larYkJP91_ks",
        "colab_type": "text"
      },
      "source": [
        "#### Noticing that there are a few columns with non-trivial fraction (> 40%, arbitrary) of  missing data, we decide not to include them for further analysis."
      ]
    },
    {
      "cell_type": "code",
      "metadata": {
        "id": "kFtqGY7k1_ks",
        "colab_type": "code",
        "colab": {}
      },
      "source": [
        "cols_to_delete = ['PoolQC', 'MiscFeature', 'Alley', 'Fence', 'FireplaceQu']\n",
        "train_data= train_data.drop(columns = cols_to_delete)\n",
        "dev_data = dev_data.drop(columns = cols_to_delete)"
      ],
      "execution_count": 0,
      "outputs": []
    },
    {
      "cell_type": "code",
      "metadata": {
        "id": "tRGbJa5j1_ku",
        "colab_type": "code",
        "colab": {
          "base_uri": "https://localhost:8080/",
          "height": 34
        },
        "outputId": "6a05f996-e8d8-450c-80e4-5f923787ef7c"
      },
      "source": [
        "train_data.shape"
      ],
      "execution_count": 19,
      "outputs": [
        {
          "output_type": "execute_result",
          "data": {
            "text/plain": [
              "(1000, 74)"
            ]
          },
          "metadata": {
            "tags": []
          },
          "execution_count": 19
        }
      ]
    },
    {
      "cell_type": "code",
      "metadata": {
        "id": "99pUjheS1_kw",
        "colab_type": "code",
        "colab": {
          "base_uri": "https://localhost:8080/",
          "height": 34
        },
        "outputId": "e3777f96-3d57-4170-d32d-422119187c41"
      },
      "source": [
        "dev_data.shape"
      ],
      "execution_count": 20,
      "outputs": [
        {
          "output_type": "execute_result",
          "data": {
            "text/plain": [
              "(460, 74)"
            ]
          },
          "metadata": {
            "tags": []
          },
          "execution_count": 20
        }
      ]
    },
    {
      "cell_type": "markdown",
      "metadata": {
        "id": "6wJ4V2B41_ky",
        "colab_type": "text"
      },
      "source": [
        "#### For the other columns with trivial fraction of missing data, we decide to fix them in the follwing way."
      ]
    },
    {
      "cell_type": "code",
      "metadata": {
        "id": "2z-sgj1a1_ky",
        "colab_type": "code",
        "colab": {}
      },
      "source": [
        "# all missing values for the categorical columns will be replaced by \"None\"\n",
        "# all missing values for the numeric columns will be replaced by median of that field\n",
        "\n",
        "for col in train_data.columns:\n",
        "    if train_data[col].dtypes == 'O':\n",
        "        train_data[col] = train_data[col].replace(np.nan,\"None\")\n",
        "    else:\n",
        "        train_data[col] = train_data[col].replace(np.nan,train_data[col].median())\n",
        "\n",
        "for col in dev_data.columns:\n",
        "    if dev_data[col].dtypes == 'O':\n",
        "        dev_data[col] = dev_data[col].replace(np.nan,\"None\")\n",
        "    else:\n",
        "        dev_data[col] = dev_data[col].replace(np.nan,dev_data[col].median())"
      ],
      "execution_count": 0,
      "outputs": []
    },
    {
      "cell_type": "markdown",
      "metadata": {
        "id": "yzuWoT5C1_k0",
        "colab_type": "text"
      },
      "source": [
        "#### Obviously we have both numeric and categorical features, we can split them for convenience."
      ]
    },
    {
      "cell_type": "code",
      "metadata": {
        "id": "43ZGQ2De1_k0",
        "colab_type": "code",
        "colab": {}
      },
      "source": [
        "num_cols = []\n",
        "cat_cols = []\n",
        "for col in train_data.columns:\n",
        "    if train_data[col].dtypes == 'O':\n",
        "        cat_cols.append(col)\n",
        "    else:\n",
        "        num_cols.append(col)"
      ],
      "execution_count": 0,
      "outputs": []
    },
    {
      "cell_type": "code",
      "metadata": {
        "id": "3MIzCM3e1_k3",
        "colab_type": "code",
        "colab": {
          "base_uri": "https://localhost:8080/",
          "height": 629
        },
        "outputId": "4c78d456-d21a-4751-b991-72545321ce1c"
      },
      "source": [
        "num_cols"
      ],
      "execution_count": 23,
      "outputs": [
        {
          "output_type": "execute_result",
          "data": {
            "text/plain": [
              "['MSSubClass',\n",
              " 'LotFrontage',\n",
              " 'LotArea',\n",
              " 'OverallQual',\n",
              " 'OverallCond',\n",
              " 'YearBuilt',\n",
              " 'YearRemodAdd',\n",
              " 'MasVnrArea',\n",
              " 'BsmtFinSF1',\n",
              " 'BsmtFinSF2',\n",
              " 'BsmtUnfSF',\n",
              " 'TotalBsmtSF',\n",
              " '1stFlrSF',\n",
              " '2ndFlrSF',\n",
              " 'LowQualFinSF',\n",
              " 'GrLivArea',\n",
              " 'BsmtFullBath',\n",
              " 'BsmtHalfBath',\n",
              " 'FullBath',\n",
              " 'HalfBath',\n",
              " 'BedroomAbvGr',\n",
              " 'KitchenAbvGr',\n",
              " 'TotRmsAbvGrd',\n",
              " 'Fireplaces',\n",
              " 'GarageYrBlt',\n",
              " 'GarageCars',\n",
              " 'GarageArea',\n",
              " 'WoodDeckSF',\n",
              " 'OpenPorchSF',\n",
              " 'EnclosedPorch',\n",
              " '3SsnPorch',\n",
              " 'ScreenPorch',\n",
              " 'PoolArea',\n",
              " 'MiscVal',\n",
              " 'MoSold',\n",
              " 'YrSold']"
            ]
          },
          "metadata": {
            "tags": []
          },
          "execution_count": 23
        }
      ]
    },
    {
      "cell_type": "code",
      "metadata": {
        "id": "1cTpJ-XY1_k5",
        "colab_type": "code",
        "colab": {
          "base_uri": "https://localhost:8080/",
          "height": 663
        },
        "outputId": "713c6fa8-f65e-4996-aa0c-ba352c011d41"
      },
      "source": [
        "cat_cols"
      ],
      "execution_count": 24,
      "outputs": [
        {
          "output_type": "execute_result",
          "data": {
            "text/plain": [
              "['MSZoning',\n",
              " 'Street',\n",
              " 'LotShape',\n",
              " 'LandContour',\n",
              " 'Utilities',\n",
              " 'LotConfig',\n",
              " 'LandSlope',\n",
              " 'Neighborhood',\n",
              " 'Condition1',\n",
              " 'Condition2',\n",
              " 'BldgType',\n",
              " 'HouseStyle',\n",
              " 'RoofStyle',\n",
              " 'RoofMatl',\n",
              " 'Exterior1st',\n",
              " 'Exterior2nd',\n",
              " 'MasVnrType',\n",
              " 'ExterQual',\n",
              " 'ExterCond',\n",
              " 'Foundation',\n",
              " 'BsmtQual',\n",
              " 'BsmtCond',\n",
              " 'BsmtExposure',\n",
              " 'BsmtFinType1',\n",
              " 'BsmtFinType2',\n",
              " 'Heating',\n",
              " 'HeatingQC',\n",
              " 'CentralAir',\n",
              " 'Electrical',\n",
              " 'KitchenQual',\n",
              " 'Functional',\n",
              " 'GarageType',\n",
              " 'GarageFinish',\n",
              " 'GarageQual',\n",
              " 'GarageCond',\n",
              " 'PavedDrive',\n",
              " 'SaleType',\n",
              " 'SaleCondition']"
            ]
          },
          "metadata": {
            "tags": []
          },
          "execution_count": 24
        }
      ]
    },
    {
      "cell_type": "markdown",
      "metadata": {
        "id": "9fNuSYcs1_k7",
        "colab_type": "text"
      },
      "source": [
        "#### In fact, the feature 'MSSubClass' uses integer as identifier for dweling type, so we should remove it to the categorical set."
      ]
    },
    {
      "cell_type": "code",
      "metadata": {
        "id": "kxCmU2WN1_k7",
        "colab_type": "code",
        "colab": {}
      },
      "source": [
        "num_cols.remove('MSSubClass')\n",
        "cat_cols.append('MSSubClass')"
      ],
      "execution_count": 0,
      "outputs": []
    },
    {
      "cell_type": "markdown",
      "metadata": {
        "id": "4r8NddZV1_k9",
        "colab_type": "text"
      },
      "source": [
        "### Linear regression using all the numeric features"
      ]
    },
    {
      "cell_type": "code",
      "metadata": {
        "id": "oyLrjLn-1_k9",
        "colab_type": "code",
        "colab": {
          "base_uri": "https://localhost:8080/",
          "height": 34
        },
        "outputId": "c043ee3b-5397-4752-b40e-5ea9494a68b1"
      },
      "source": [
        "lr = LinearRegression()\n",
        "lr.fit(train_data[num_cols], train_y)\n",
        "lr.score(train_data[num_cols], train_y)"
      ],
      "execution_count": 26,
      "outputs": [
        {
          "output_type": "execute_result",
          "data": {
            "text/plain": [
              "0.8867284579667323"
            ]
          },
          "metadata": {
            "tags": []
          },
          "execution_count": 26
        }
      ]
    },
    {
      "cell_type": "code",
      "metadata": {
        "id": "gAQRpCun1_k_",
        "colab_type": "code",
        "colab": {
          "base_uri": "https://localhost:8080/",
          "height": 34
        },
        "outputId": "654d7200-f042-496f-fd35-4a381d67763f"
      },
      "source": [
        "pred = lr.predict(dev_data[num_cols])\n",
        "np.sqrt(metrics.mean_squared_error(dev_y, pred))"
      ],
      "execution_count": 27,
      "outputs": [
        {
          "output_type": "execute_result",
          "data": {
            "text/plain": [
              "0.18086784257099606"
            ]
          },
          "metadata": {
            "tags": []
          },
          "execution_count": 27
        }
      ]
    },
    {
      "cell_type": "markdown",
      "metadata": {
        "id": "SyZlCQhU1_lB",
        "colab_type": "text"
      },
      "source": [
        "### Correlation matrix"
      ]
    },
    {
      "cell_type": "code",
      "metadata": {
        "colab_type": "code",
        "id": "I37bOCC7OT1z",
        "outputId": "427b6b5e-336b-4578-b923-0627eb3abc16",
        "colab": {
          "base_uri": "https://localhost:8080/",
          "height": 877
        }
      },
      "source": [
        "# Comprehensive correlation analysis \n",
        "corrmat = pd.concat([train_data[num_cols], train_y], axis = 1).corr()\n",
        "f, ax = plt.subplots(figsize=(15, 15))\n",
        "sns.heatmap(corrmat, square=True)"
      ],
      "execution_count": 28,
      "outputs": [
        {
          "output_type": "execute_result",
          "data": {
            "text/plain": [
              "<matplotlib.axes._subplots.AxesSubplot at 0x7f4a0bda53c8>"
            ]
          },
          "metadata": {
            "tags": []
          },
          "execution_count": 28
        },
        {
          "output_type": "display_data",
          "data": {
            "image/png": "[encoded data removed]",
            "text/plain": [
              "<Figure size 1080x1080 with 2 Axes>"
            ]
          },
          "metadata": {
            "tags": [],
            "needs_background": "light"
          }
        }
      ]
    },
    {
      "cell_type": "markdown",
      "metadata": {
        "id": "qJGMYMNC1_lC",
        "colab_type": "text"
      },
      "source": [
        "### Bivariate analysis between numeric features and sale price."
      ]
    },
    {
      "cell_type": "code",
      "metadata": {
        "id": "JA_eLKRh1_lD",
        "colab_type": "code",
        "colab": {
          "base_uri": "https://localhost:8080/",
          "height": 1000
        },
        "outputId": "0699443a-f659-4d77-dc33-305188309f55"
      },
      "source": [
        "plt.figure(figsize=(20,50))\n",
        "for idx,col in enumerate(num_cols):\n",
        "    plt.subplot(15,3,idx+1)\n",
        "    plt.scatter(x = train_data[col],y= train_y)\n",
        "    plt.ylabel(\"SalePrice (log)\")\n",
        "    plt.xlabel(col)"
      ],
      "execution_count": 29,
      "outputs": [
        {
          "output_type": "display_data",
          "data": {
            "image/png": "[encoded data removed]",
            "text/plain": [
              "<Figure size 1440x3600 with 35 Axes>"
            ]
          },
          "metadata": {
            "tags": [],
            "needs_background": "light"
          }
        }
      ]
    },
    {
      "cell_type": "markdown",
      "metadata": {
        "id": "ji-wA2Ua1_lF",
        "colab_type": "text"
      },
      "source": [
        "#### From the correlation matrix and the bivariate analysis above, we can tell that (1) some features are more strongly linearly correlated with sale price than the others; (2) the correlation between features can be fairly strong and (3) for the features not showing strong correlation with sale price, feature engineering may help reveal correlation based on the common sense."
      ]
    },
    {
      "cell_type": "markdown",
      "metadata": {
        "id": "zN_Wcu3g1_lF",
        "colab_type": "text"
      },
      "source": [
        "### Feature selection and linear regression"
      ]
    },
    {
      "cell_type": "code",
      "metadata": {
        "id": "Pfzr4n9k1_lF",
        "colab_type": "code",
        "colab": {
          "base_uri": "https://localhost:8080/",
          "height": 646
        },
        "outputId": "f5809129-7a48-40fa-873a-39231f8fe2a4"
      },
      "source": [
        "# Use an arbitrary criteria of pearson's correlation larger than 0.5 to select features.\n",
        "select_num_cols = []\n",
        "print('Pearson correlation between features and sale price:')\n",
        "for col in num_cols:\n",
        "    corr, _ = pearsonr(train_data[col], train_y)\n",
        "    print(col, ':', corr)\n",
        "    if abs(corr) > 0.5: select_num_cols.append(col)\n",
        "print(select_num_cols)"
      ],
      "execution_count": 30,
      "outputs": [
        {
          "output_type": "stream",
          "text": [
            "Pearson correlation between features and sale price:\n",
            "LotFrontage : 0.3696251938162749\n",
            "LotArea : 0.2567722870150201\n",
            "OverallQual : 0.8203565230042019\n",
            "OverallCond : -0.05672470819377539\n",
            "YearBuilt : 0.5884253049857875\n",
            "YearRemodAdd : 0.5827953139730949\n",
            "MasVnrArea : 0.43904654935680254\n",
            "BsmtFinSF1 : 0.3761189745779125\n",
            "BsmtFinSF2 : 0.016722236554562855\n",
            "BsmtUnfSF : 0.2232335390448978\n",
            "TotalBsmtSF : 0.6362645209834036\n",
            "1stFlrSF : 0.6161626956166423\n",
            "2ndFlrSF : 0.33115439097768545\n",
            "LowQualFinSF : -0.047768440344676796\n",
            "GrLivArea : 0.7295761063256154\n",
            "BsmtFullBath : 0.2275304012841473\n",
            "BsmtHalfBath : 8.84243077112013e-06\n",
            "FullBath : 0.5993270567525847\n",
            "HalfBath : 0.3334032268750317\n",
            "BedroomAbvGr : 0.2207985046101933\n",
            "KitchenAbvGr : -0.14110650879486156\n",
            "TotRmsAbvGrd : 0.5629699212377332\n",
            "Fireplaces : 0.48903710036541365\n",
            "GarageYrBlt : 0.4960419345332212\n",
            "GarageCars : 0.6921149387861142\n",
            "GarageArea : 0.6693708607198884\n",
            "WoodDeckSF : 0.3343860207877158\n",
            "OpenPorchSF : 0.320871054638388\n",
            "EnclosedPorch : -0.13159261096283226\n",
            "3SsnPorch : 0.028077162761282942\n",
            "ScreenPorch : 0.13998458427813565\n",
            "PoolArea : 0.021029381487109845\n",
            "MiscVal : -0.04245579471915031\n",
            "MoSold : 0.05026249278457527\n",
            "YrSold : -0.043551703644595485\n",
            "['OverallQual', 'YearBuilt', 'YearRemodAdd', 'TotalBsmtSF', '1stFlrSF', 'GrLivArea', 'FullBath', 'TotRmsAbvGrd', 'GarageCars', 'GarageArea']\n"
          ],
          "name": "stdout"
        }
      ]
    },
    {
      "cell_type": "code",
      "metadata": {
        "id": "bcVkDayu1_lH",
        "colab_type": "code",
        "colab": {
          "base_uri": "https://localhost:8080/",
          "height": 34
        },
        "outputId": "4974658f-486a-4920-83a9-e0e841bd43bf"
      },
      "source": [
        "lr = LinearRegression()\n",
        "lr.fit(train_data[select_num_cols], train_y)\n",
        "lr.score(train_data[select_num_cols], train_y)"
      ],
      "execution_count": 31,
      "outputs": [
        {
          "output_type": "execute_result",
          "data": {
            "text/plain": [
              "0.8438590138077033"
            ]
          },
          "metadata": {
            "tags": []
          },
          "execution_count": 31
        }
      ]
    },
    {
      "cell_type": "code",
      "metadata": {
        "id": "7PyR1H621_lI",
        "colab_type": "code",
        "colab": {
          "base_uri": "https://localhost:8080/",
          "height": 34
        },
        "outputId": "0e47ff28-180d-4b8a-95c3-8f452bf8c535"
      },
      "source": [
        "pred = lr.predict(dev_data[select_num_cols])\n",
        "np.sqrt(metrics.mean_squared_error(dev_y, pred))"
      ],
      "execution_count": 32,
      "outputs": [
        {
          "output_type": "execute_result",
          "data": {
            "text/plain": [
              "0.19455203021453527"
            ]
          },
          "metadata": {
            "tags": []
          },
          "execution_count": 32
        }
      ]
    },
    {
      "cell_type": "markdown",
      "metadata": {
        "id": "mK5Du7EQ1_lK",
        "colab_type": "text"
      },
      "source": [
        "### Feature engineering and linear regression"
      ]
    },
    {
      "cell_type": "markdown",
      "metadata": {
        "id": "lNHdys_t1_lK",
        "colab_type": "text"
      },
      "source": [
        "#### Although the feature of year sold doesn't show strong correlation with sale price, the house age plays an important role in buyer's purchase decision. Usually the newer a house is, the higher it can sell for. Accordingly, we can engineer two features to reveal the relevant information: (1) house age = year built - year sold and (2) remodel age = year remodel add - year sold."
      ]
    },
    {
      "cell_type": "code",
      "metadata": {
        "id": "IJAZxAHK1_lK",
        "colab_type": "code",
        "colab": {}
      },
      "source": [
        "train_data['HouseAge'] = train_data['YrSold'] - train_data['YearBuilt']\n",
        "dev_data['HouseAge'] = dev_data['YrSold'] - dev_data['YearBuilt']\n",
        "train_data['RemodAge'] = train_data['YrSold'] - train_data['YearRemodAdd']\n",
        "dev_data['RemodAge'] = dev_data['YrSold'] - dev_data['YearRemodAdd']"
      ],
      "execution_count": 0,
      "outputs": []
    },
    {
      "cell_type": "code",
      "metadata": {
        "id": "vTfmotZq1_lM",
        "colab_type": "code",
        "colab": {
          "base_uri": "https://localhost:8080/",
          "height": 51
        },
        "outputId": "2a89bd40-0183-4ca6-c35a-42cbe5435715"
      },
      "source": [
        "corr,_ = pearsonr(train_data['HouseAge'], train_y)\n",
        "print('Pearson correlation between HouseAge and SalePrice:', corr)\n",
        "corr,_ = pearsonr(train_data['RemodAge'], train_y)\n",
        "print('Pearson correlation between RemodAge and SalePrice:', corr)"
      ],
      "execution_count": 34,
      "outputs": [
        {
          "output_type": "stream",
          "text": [
            "Pearson correlation between HouseAge and SalePrice: -0.5900685913201703\n",
            "Pearson correlation between RemodAge and SalePrice: -0.5863113452542096\n"
          ],
          "name": "stdout"
        }
      ]
    },
    {
      "cell_type": "code",
      "metadata": {
        "id": "3Skm9UA91_lN",
        "colab_type": "code",
        "colab": {}
      },
      "source": [
        "# Compose new data set with both the selected and the engineered numeric features.\n",
        "train_data_num = pd.concat([train_data[select_num_cols],train_data['HouseAge'],train_data['RemodAge']], axis = 1)\n",
        "dev_data_num = pd.concat([dev_data[select_num_cols],dev_data['HouseAge'],dev_data['RemodAge'],], axis = 1)"
      ],
      "execution_count": 0,
      "outputs": []
    },
    {
      "cell_type": "code",
      "metadata": {
        "id": "Wnxe-gmJ1_lO",
        "colab_type": "code",
        "colab": {
          "base_uri": "https://localhost:8080/",
          "height": 34
        },
        "outputId": "e85a3753-78e1-4181-979f-f9225b1748a9"
      },
      "source": [
        "lr = LinearRegression()\n",
        "lr.fit(train_data_num, train_y)\n",
        "lr.score(train_data_num, train_y)"
      ],
      "execution_count": 36,
      "outputs": [
        {
          "output_type": "execute_result",
          "data": {
            "text/plain": [
              "0.8442106505481792"
            ]
          },
          "metadata": {
            "tags": []
          },
          "execution_count": 36
        }
      ]
    },
    {
      "cell_type": "code",
      "metadata": {
        "id": "zHYRyoFB1_lP",
        "colab_type": "code",
        "colab": {
          "base_uri": "https://localhost:8080/",
          "height": 34
        },
        "outputId": "75ccdf8f-b479-427a-c26b-9bc2c32ede2b"
      },
      "source": [
        "pred = lr.predict(dev_data_num)\n",
        "np.sqrt(metrics.mean_squared_error(dev_y, pred))"
      ],
      "execution_count": 37,
      "outputs": [
        {
          "output_type": "execute_result",
          "data": {
            "text/plain": [
              "0.1947872906964553"
            ]
          },
          "metadata": {
            "tags": []
          },
          "execution_count": 37
        }
      ]
    },
    {
      "cell_type": "code",
      "metadata": {
        "colab_type": "code",
        "id": "OoPvaqnqOT2p",
        "colab": {}
      },
      "source": [
        "### Convert categorical variables to numeric variables\n",
        "#### Get dummy variables from the categorical variables and concate with the numeric variables"
      ],
      "execution_count": 0,
      "outputs": []
    },
    {
      "cell_type": "code",
      "metadata": {
        "id": "LTl2uZBE1_lS",
        "colab_type": "code",
        "colab": {}
      },
      "source": [
        "df_dummies = pd.get_dummies(df[cat_cols], drop_first=True)"
      ],
      "execution_count": 0,
      "outputs": []
    },
    {
      "cell_type": "code",
      "metadata": {
        "id": "0IDf83sd1_lU",
        "colab_type": "code",
        "colab": {
          "base_uri": "https://localhost:8080/",
          "height": 34
        },
        "outputId": "5cb5a1d0-bbb0-4716-90da-90a5f6d3e14b"
      },
      "source": [
        "df_dummies.shape"
      ],
      "execution_count": 40,
      "outputs": [
        {
          "output_type": "execute_result",
          "data": {
            "text/plain": [
              "(1460, 197)"
            ]
          },
          "metadata": {
            "tags": []
          },
          "execution_count": 40
        }
      ]
    },
    {
      "cell_type": "code",
      "metadata": {
        "id": "fi_Xx8qL1_lV",
        "colab_type": "code",
        "colab": {
          "base_uri": "https://localhost:8080/",
          "height": 224
        },
        "outputId": "b69069e6-c975-43c6-e3b8-2babbb705ebd"
      },
      "source": [
        "df_num = df[num_cols]\n",
        "df_num.head()"
      ],
      "execution_count": 41,
      "outputs": [
        {
          "output_type": "execute_result",
          "data": {
            "text/html": [
              "<div>\n",
              "<style scoped>\n",
              "    .dataframe tbody tr th:only-of-type {\n",
              "        vertical-align: middle;\n",
              "    }\n",
              "\n",
              "    .dataframe tbody tr th {\n",
              "        vertical-align: top;\n",
              "    }\n",
              "\n",
              "    .dataframe thead th {\n",
              "        text-align: right;\n",
              "    }\n",
              "</style>\n",
              "<table border=\"1\" class=\"dataframe\">\n",
              "  <thead>\n",
              "    <tr style=\"text-align: right;\">\n",
              "      <th></th>\n",
              "      <th>LotFrontage</th>\n",
              "      <th>LotArea</th>\n",
              "      <th>OverallQual</th>\n",
              "      <th>OverallCond</th>\n",
              "      <th>YearBuilt</th>\n",
              "      <th>YearRemodAdd</th>\n",
              "      <th>MasVnrArea</th>\n",
              "      <th>BsmtFinSF1</th>\n",
              "      <th>BsmtFinSF2</th>\n",
              "      <th>BsmtUnfSF</th>\n",
              "      <th>TotalBsmtSF</th>\n",
              "      <th>1stFlrSF</th>\n",
              "      <th>2ndFlrSF</th>\n",
              "      <th>LowQualFinSF</th>\n",
              "      <th>GrLivArea</th>\n",
              "      <th>BsmtFullBath</th>\n",
              "      <th>BsmtHalfBath</th>\n",
              "      <th>FullBath</th>\n",
              "      <th>HalfBath</th>\n",
              "      <th>BedroomAbvGr</th>\n",
              "      <th>KitchenAbvGr</th>\n",
              "      <th>TotRmsAbvGrd</th>\n",
              "      <th>Fireplaces</th>\n",
              "      <th>GarageYrBlt</th>\n",
              "      <th>GarageCars</th>\n",
              "      <th>GarageArea</th>\n",
              "      <th>WoodDeckSF</th>\n",
              "      <th>OpenPorchSF</th>\n",
              "      <th>EnclosedPorch</th>\n",
              "      <th>3SsnPorch</th>\n",
              "      <th>ScreenPorch</th>\n",
              "      <th>PoolArea</th>\n",
              "      <th>MiscVal</th>\n",
              "      <th>MoSold</th>\n",
              "      <th>YrSold</th>\n",
              "    </tr>\n",
              "  </thead>\n",
              "  <tbody>\n",
              "    <tr>\n",
              "      <th>0</th>\n",
              "      <td>65.0</td>\n",
              "      <td>8450</td>\n",
              "      <td>7</td>\n",
              "      <td>5</td>\n",
              "      <td>2003</td>\n",
              "      <td>2003</td>\n",
              "      <td>196.0</td>\n",
              "      <td>706</td>\n",
              "      <td>0</td>\n",
              "      <td>150</td>\n",
              "      <td>856</td>\n",
              "      <td>856</td>\n",
              "      <td>854</td>\n",
              "      <td>0</td>\n",
              "      <td>1710</td>\n",
              "      <td>1</td>\n",
              "      <td>0</td>\n",
              "      <td>2</td>\n",
              "      <td>1</td>\n",
              "      <td>3</td>\n",
              "      <td>1</td>\n",
              "      <td>8</td>\n",
              "      <td>0</td>\n",
              "      <td>2003.0</td>\n",
              "      <td>2</td>\n",
              "      <td>548</td>\n",
              "      <td>0</td>\n",
              "      <td>61</td>\n",
              "      <td>0</td>\n",
              "      <td>0</td>\n",
              "      <td>0</td>\n",
              "      <td>0</td>\n",
              "      <td>0</td>\n",
              "      <td>2</td>\n",
              "      <td>2008</td>\n",
              "    </tr>\n",
              "    <tr>\n",
              "      <th>1</th>\n",
              "      <td>80.0</td>\n",
              "      <td>9600</td>\n",
              "      <td>6</td>\n",
              "      <td>8</td>\n",
              "      <td>1976</td>\n",
              "      <td>1976</td>\n",
              "      <td>0.0</td>\n",
              "      <td>978</td>\n",
              "      <td>0</td>\n",
              "      <td>284</td>\n",
              "      <td>1262</td>\n",
              "      <td>1262</td>\n",
              "      <td>0</td>\n",
              "      <td>0</td>\n",
              "      <td>1262</td>\n",
              "      <td>0</td>\n",
              "      <td>1</td>\n",
              "      <td>2</td>\n",
              "      <td>0</td>\n",
              "      <td>3</td>\n",
              "      <td>1</td>\n",
              "      <td>6</td>\n",
              "      <td>1</td>\n",
              "      <td>1976.0</td>\n",
              "      <td>2</td>\n",
              "      <td>460</td>\n",
              "      <td>298</td>\n",
              "      <td>0</td>\n",
              "      <td>0</td>\n",
              "      <td>0</td>\n",
              "      <td>0</td>\n",
              "      <td>0</td>\n",
              "      <td>0</td>\n",
              "      <td>5</td>\n",
              "      <td>2007</td>\n",
              "    </tr>\n",
              "    <tr>\n",
              "      <th>2</th>\n",
              "      <td>68.0</td>\n",
              "      <td>11250</td>\n",
              "      <td>7</td>\n",
              "      <td>5</td>\n",
              "      <td>2001</td>\n",
              "      <td>2002</td>\n",
              "      <td>162.0</td>\n",
              "      <td>486</td>\n",
              "      <td>0</td>\n",
              "      <td>434</td>\n",
              "      <td>920</td>\n",
              "      <td>920</td>\n",
              "      <td>866</td>\n",
              "      <td>0</td>\n",
              "      <td>1786</td>\n",
              "      <td>1</td>\n",
              "      <td>0</td>\n",
              "      <td>2</td>\n",
              "      <td>1</td>\n",
              "      <td>3</td>\n",
              "      <td>1</td>\n",
              "      <td>6</td>\n",
              "      <td>1</td>\n",
              "      <td>2001.0</td>\n",
              "      <td>2</td>\n",
              "      <td>608</td>\n",
              "      <td>0</td>\n",
              "      <td>42</td>\n",
              "      <td>0</td>\n",
              "      <td>0</td>\n",
              "      <td>0</td>\n",
              "      <td>0</td>\n",
              "      <td>0</td>\n",
              "      <td>9</td>\n",
              "      <td>2008</td>\n",
              "    </tr>\n",
              "    <tr>\n",
              "      <th>3</th>\n",
              "      <td>60.0</td>\n",
              "      <td>9550</td>\n",
              "      <td>7</td>\n",
              "      <td>5</td>\n",
              "      <td>1915</td>\n",
              "      <td>1970</td>\n",
              "      <td>0.0</td>\n",
              "      <td>216</td>\n",
              "      <td>0</td>\n",
              "      <td>540</td>\n",
              "      <td>756</td>\n",
              "      <td>961</td>\n",
              "      <td>756</td>\n",
              "      <td>0</td>\n",
              "      <td>1717</td>\n",
              "      <td>1</td>\n",
              "      <td>0</td>\n",
              "      <td>1</td>\n",
              "      <td>0</td>\n",
              "      <td>3</td>\n",
              "      <td>1</td>\n",
              "      <td>7</td>\n",
              "      <td>1</td>\n",
              "      <td>1998.0</td>\n",
              "      <td>3</td>\n",
              "      <td>642</td>\n",
              "      <td>0</td>\n",
              "      <td>35</td>\n",
              "      <td>272</td>\n",
              "      <td>0</td>\n",
              "      <td>0</td>\n",
              "      <td>0</td>\n",
              "      <td>0</td>\n",
              "      <td>2</td>\n",
              "      <td>2006</td>\n",
              "    </tr>\n",
              "    <tr>\n",
              "      <th>4</th>\n",
              "      <td>84.0</td>\n",
              "      <td>14260</td>\n",
              "      <td>8</td>\n",
              "      <td>5</td>\n",
              "      <td>2000</td>\n",
              "      <td>2000</td>\n",
              "      <td>350.0</td>\n",
              "      <td>655</td>\n",
              "      <td>0</td>\n",
              "      <td>490</td>\n",
              "      <td>1145</td>\n",
              "      <td>1145</td>\n",
              "      <td>1053</td>\n",
              "      <td>0</td>\n",
              "      <td>2198</td>\n",
              "      <td>1</td>\n",
              "      <td>0</td>\n",
              "      <td>2</td>\n",
              "      <td>1</td>\n",
              "      <td>4</td>\n",
              "      <td>1</td>\n",
              "      <td>9</td>\n",
              "      <td>1</td>\n",
              "      <td>2000.0</td>\n",
              "      <td>3</td>\n",
              "      <td>836</td>\n",
              "      <td>192</td>\n",
              "      <td>84</td>\n",
              "      <td>0</td>\n",
              "      <td>0</td>\n",
              "      <td>0</td>\n",
              "      <td>0</td>\n",
              "      <td>0</td>\n",
              "      <td>12</td>\n",
              "      <td>2008</td>\n",
              "    </tr>\n",
              "  </tbody>\n",
              "</table>\n",
              "</div>"
            ],
            "text/plain": [
              "   LotFrontage  LotArea  OverallQual  ...  MiscVal  MoSold  YrSold\n",
              "0         65.0     8450            7  ...        0       2    2008\n",
              "1         80.0     9600            6  ...        0       5    2007\n",
              "2         68.0    11250            7  ...        0       9    2008\n",
              "3         60.0     9550            7  ...        0       2    2006\n",
              "4         84.0    14260            8  ...        0      12    2008\n",
              "\n",
              "[5 rows x 35 columns]"
            ]
          },
          "metadata": {
            "tags": []
          },
          "execution_count": 41
        }
      ]
    },
    {
      "cell_type": "code",
      "metadata": {
        "id": "OTmEG8_L1_lX",
        "colab_type": "code",
        "colab": {
          "base_uri": "https://localhost:8080/",
          "height": 34
        },
        "outputId": "e2a7da87-175e-4db3-ac44-66c427070e40"
      },
      "source": [
        "df_num_dummies = pd.concat([df_dummies, df_num], axis = 1)\n",
        "df_num_dummies.shape"
      ],
      "execution_count": 42,
      "outputs": [
        {
          "output_type": "execute_result",
          "data": {
            "text/plain": [
              "(1460, 232)"
            ]
          },
          "metadata": {
            "tags": []
          },
          "execution_count": 42
        }
      ]
    },
    {
      "cell_type": "code",
      "metadata": {
        "id": "6fM2naOd1_lY",
        "colab_type": "code",
        "colab": {
          "base_uri": "https://localhost:8080/",
          "height": 102
        },
        "outputId": "3539f0b5-2386-4032-ff2c-2b005f1417f8"
      },
      "source": [
        "df_num_dummies.info()"
      ],
      "execution_count": 43,
      "outputs": [
        {
          "output_type": "stream",
          "text": [
            "<class 'pandas.core.frame.DataFrame'>\n",
            "RangeIndex: 1460 entries, 0 to 1459\n",
            "Columns: 232 entries, MSSubClass to YrSold\n",
            "dtypes: float64(3), int64(33), uint8(196)\n",
            "memory usage: 690.2 KB\n"
          ],
          "name": "stdout"
        }
      ]
    },
    {
      "cell_type": "code",
      "metadata": {
        "id": "jbapjJZ51_lZ",
        "colab_type": "code",
        "colab": {}
      },
      "source": [
        "# Fix the missing data.\n",
        "for col in df_num_dummies.columns:\n",
        "    df_num_dummies[col] = df_num_dummies[col].replace(np.nan,df_num_dummies[col].median())"
      ],
      "execution_count": 0,
      "outputs": []
    },
    {
      "cell_type": "code",
      "metadata": {
        "id": "073BiNUu1_lb",
        "colab_type": "code",
        "colab": {}
      },
      "source": [
        "train_num_dummies = df_num_dummies[:1000]\n",
        "dev_num_dummies = df_num_dummies[1000:]"
      ],
      "execution_count": 0,
      "outputs": []
    },
    {
      "cell_type": "code",
      "metadata": {
        "id": "FdLacfVj1_ld",
        "colab_type": "code",
        "colab": {
          "base_uri": "https://localhost:8080/",
          "height": 34
        },
        "outputId": "1bffe9f5-4d88-45ee-e724-752b1c501ef3"
      },
      "source": [
        "lr = LinearRegression()\n",
        "lr.fit(train_num_dummies, train_y)\n",
        "lr.score(train_num_dummies, train_y)"
      ],
      "execution_count": 46,
      "outputs": [
        {
          "output_type": "execute_result",
          "data": {
            "text/plain": [
              "0.9451358894861114"
            ]
          },
          "metadata": {
            "tags": []
          },
          "execution_count": 46
        }
      ]
    },
    {
      "cell_type": "code",
      "metadata": {
        "id": "hTMIOWKr1_lf",
        "colab_type": "code",
        "colab": {
          "base_uri": "https://localhost:8080/",
          "height": 34
        },
        "outputId": "1826fa48-cb9c-4f52-d530-1136599f6625"
      },
      "source": [
        "pred = lr.predict(dev_num_dummies)\n",
        "np.sqrt(metrics.mean_squared_error(dev_y, pred))"
      ],
      "execution_count": 47,
      "outputs": [
        {
          "output_type": "execute_result",
          "data": {
            "text/plain": [
              "0.16756415851270265"
            ]
          },
          "metadata": {
            "tags": []
          },
          "execution_count": 47
        }
      ]
    },
    {
      "cell_type": "markdown",
      "metadata": {
        "id": "lGhGGDDt1_lg",
        "colab_type": "text"
      },
      "source": [
        "### PCA"
      ]
    },
    {
      "cell_type": "code",
      "metadata": {
        "id": "YnKgIPdS1_lh",
        "colab_type": "code",
        "colab": {}
      },
      "source": [
        "# Select the first k principle components explaining high fraction of total variance\n",
        "training_score = []\n",
        "rmse = []\n",
        "for k in range(1,200,1):\n",
        "    pca = PCA(n_components = k)\n",
        "    train_num_dummies_kd = pca.fit_transform(train_num_dummies)\n",
        "    \n",
        "    lr = LinearRegression()\n",
        "    lr.fit(train_num_dummies_kd, train_y)\n",
        "    training_score.append(lr.score(train_num_dummies_kd, train_y))\n",
        "    \n",
        "    pred = lr.predict(pca.transform(dev_num_dummies))\n",
        "    rmse.append(np.sqrt(metrics.mean_squared_error(dev_y, pred)))"
      ],
      "execution_count": 0,
      "outputs": []
    },
    {
      "cell_type": "code",
      "metadata": {
        "id": "tgjXhAqP1_li",
        "colab_type": "code",
        "colab": {
          "base_uri": "https://localhost:8080/",
          "height": 296
        },
        "outputId": "e70bba47-9edf-4aa6-e7e1-35544aeeb4eb"
      },
      "source": [
        "plt.figure()\n",
        "plt.plot(training_score)\n",
        "plt.xlabel('Number of principal componentes')\n",
        "plt.ylabel('Linear regression training score')"
      ],
      "execution_count": 49,
      "outputs": [
        {
          "output_type": "execute_result",
          "data": {
            "text/plain": [
              "Text(0, 0.5, 'Linear regression training score')"
            ]
          },
          "metadata": {
            "tags": []
          },
          "execution_count": 49
        },
        {
          "output_type": "display_data",
          "data": {
            "image/png": "[encoded data removed]",
            "text/plain": [
              "<Figure size 432x288 with 1 Axes>"
            ]
          },
          "metadata": {
            "tags": [],
            "needs_background": "light"
          }
        }
      ]
    },
    {
      "cell_type": "code",
      "metadata": {
        "id": "uFnc58RR1_lj",
        "colab_type": "code",
        "colab": {
          "base_uri": "https://localhost:8080/",
          "height": 296
        },
        "outputId": "61df87da-8478-4773-bbdf-59023d9544c0"
      },
      "source": [
        "plt.figure()\n",
        "plt.plot(rmse)\n",
        "plt.xlabel('Number of principal componentes')\n",
        "plt.ylabel('RMSE')"
      ],
      "execution_count": 50,
      "outputs": [
        {
          "output_type": "execute_result",
          "data": {
            "text/plain": [
              "Text(0, 0.5, 'RMSE')"
            ]
          },
          "metadata": {
            "tags": []
          },
          "execution_count": 50
        },
        {
          "output_type": "display_data",
          "data": {
            "image/png": "[encoded data removed]",
            "text/plain": [
              "<Figure size 432x288 with 1 Axes>"
            ]
          },
          "metadata": {
            "tags": [],
            "needs_background": "light"
          }
        }
      ]
    },
    {
      "cell_type": "code",
      "metadata": {
        "id": "mvcXZqR01_lk",
        "colab_type": "code",
        "colab": {}
      },
      "source": [
        "pca = PCA(n_components = 168)\n",
        "train_num_dummies_kd = pca.fit_transform(train_num_dummies)"
      ],
      "execution_count": 0,
      "outputs": []
    },
    {
      "cell_type": "code",
      "metadata": {
        "id": "MuWWi8sr1_lm",
        "colab_type": "code",
        "colab": {
          "base_uri": "https://localhost:8080/",
          "height": 34
        },
        "outputId": "9fbe105b-b806-444a-fcbe-65ee37655fbd"
      },
      "source": [
        "lr = LinearRegression()\n",
        "lr.fit(train_num_dummies_kd, train_y)\n",
        "lr.score(train_num_dummies_kd, train_y)"
      ],
      "execution_count": 52,
      "outputs": [
        {
          "output_type": "execute_result",
          "data": {
            "text/plain": [
              "0.9299748524405191"
            ]
          },
          "metadata": {
            "tags": []
          },
          "execution_count": 52
        }
      ]
    },
    {
      "cell_type": "code",
      "metadata": {
        "id": "oTh86iCs1_ln",
        "colab_type": "code",
        "colab": {
          "base_uri": "https://localhost:8080/",
          "height": 34
        },
        "outputId": "0a90e1e8-ff56-493a-a1c4-353d8cad5f52"
      },
      "source": [
        "pred = lr.predict(pca.transform(dev_num_dummies))\n",
        "np.sqrt(metrics.mean_squared_error(dev_y, pred))"
      ],
      "execution_count": 53,
      "outputs": [
        {
          "output_type": "execute_result",
          "data": {
            "text/plain": [
              "0.15718569352347894"
            ]
          },
          "metadata": {
            "tags": []
          },
          "execution_count": 53
        }
      ]
    },
    {
      "cell_type": "code",
      "metadata": {
        "id": "RJ-02dTN1_lo",
        "colab_type": "code",
        "colab": {
          "base_uri": "https://localhost:8080/",
          "height": 34
        },
        "outputId": "d3872d68-d7b1-41be-bfd6-1578965a7875"
      },
      "source": [
        "rmse.index(min(rmse))"
      ],
      "execution_count": 54,
      "outputs": [
        {
          "output_type": "execute_result",
          "data": {
            "text/plain": [
              "169"
            ]
          },
          "metadata": {
            "tags": []
          },
          "execution_count": 54
        }
      ]
    },
    {
      "cell_type": "code",
      "metadata": {
        "id": "r33R_8me1_lq",
        "colab_type": "code",
        "colab": {
          "base_uri": "https://localhost:8080/",
          "height": 34
        },
        "outputId": "2f2b4b90-6459-4ade-b3d6-36860b6c88dc"
      },
      "source": [
        "min(rmse)"
      ],
      "execution_count": 55,
      "outputs": [
        {
          "output_type": "execute_result",
          "data": {
            "text/plain": [
              "0.1554198993193879"
            ]
          },
          "metadata": {
            "tags": []
          },
          "execution_count": 55
        }
      ]
    },
    {
      "cell_type": "markdown",
      "metadata": {
        "id": "eZ8mtxmf3luZ",
        "colab_type": "text"
      },
      "source": [
        "## **Julie's Random Forest**"
      ]
    },
    {
      "cell_type": "code",
      "metadata": {
        "id": "Gr9kX7x-3wsq",
        "colab_type": "code",
        "colab": {
          "base_uri": "https://localhost:8080/",
          "height": 34
        },
        "outputId": "98d9f387-9089-4520-c046-05a3ba93d078"
      },
      "source": [
        "train_data.shape"
      ],
      "execution_count": 61,
      "outputs": [
        {
          "output_type": "execute_result",
          "data": {
            "text/plain": [
              "(1000, 76)"
            ]
          },
          "metadata": {
            "tags": []
          },
          "execution_count": 61
        }
      ]
    },
    {
      "cell_type": "code",
      "metadata": {
        "id": "jzy0kjaG4Y-E",
        "colab_type": "code",
        "colab": {
          "base_uri": "https://localhost:8080/",
          "height": 34
        },
        "outputId": "30a4adea-c5b5-4252-9de0-b66cc04cda57"
      },
      "source": [
        "train_data[num_cols].shape"
      ],
      "execution_count": 62,
      "outputs": [
        {
          "output_type": "execute_result",
          "data": {
            "text/plain": [
              "(1000, 35)"
            ]
          },
          "metadata": {
            "tags": []
          },
          "execution_count": 62
        }
      ]
    },
    {
      "cell_type": "code",
      "metadata": {
        "id": "p7fyAK3D4dk8",
        "colab_type": "code",
        "colab": {
          "base_uri": "https://localhost:8080/",
          "height": 34
        },
        "outputId": "5aead590-607d-4d0b-add0-b9f7cebb6ea4"
      },
      "source": [
        "train_num_dummies.shape"
      ],
      "execution_count": 63,
      "outputs": [
        {
          "output_type": "execute_result",
          "data": {
            "text/plain": [
              "(1000, 232)"
            ]
          },
          "metadata": {
            "tags": []
          },
          "execution_count": 63
        }
      ]
    },
    {
      "cell_type": "code",
      "metadata": {
        "id": "nFrp56npCHcX",
        "colab_type": "code",
        "colab": {
          "base_uri": "https://localhost:8080/",
          "height": 34
        },
        "outputId": "03361922-c791-403f-fbbc-b953701dde89"
      },
      "source": [
        "train_num_dummies_kd.shape"
      ],
      "execution_count": 60,
      "outputs": [
        {
          "output_type": "execute_result",
          "data": {
            "text/plain": [
              "(1000, 168)"
            ]
          },
          "metadata": {
            "tags": []
          },
          "execution_count": 60
        }
      ]
    },
    {
      "cell_type": "markdown",
      "metadata": {
        "id": "SZ6RcdU4CbT3",
        "colab_type": "text"
      },
      "source": [
        "#Run Random Forest on previously preprocessed data"
      ]
    },
    {
      "cell_type": "markdown",
      "metadata": {
        "id": "ra_Eucy73kH2",
        "colab_type": "text"
      },
      "source": [
        ""
      ]
    },
    {
      "cell_type": "markdown",
      "metadata": {
        "id": "OB3LXU0QK46d",
        "colab_type": "text"
      },
      "source": [
        "##Let's try out Decision Tree model first"
      ]
    },
    {
      "cell_type": "code",
      "metadata": {
        "id": "52F4CG_LDlMA",
        "colab_type": "code",
        "colab": {
          "base_uri": "https://localhost:8080/",
          "height": 119
        },
        "outputId": "6ac635d9-2f55-4549-9ff2-d18a8ebae0d3"
      },
      "source": [
        "from sklearn.tree import DecisionTreeRegressor\n",
        "\n",
        "# Run Decision Tree first on train_num_dummies:\n",
        "tree_reg = DecisionTreeRegressor(random_state=42)\n",
        "tree_reg.fit(train_num_dummies, train_y)"
      ],
      "execution_count": 69,
      "outputs": [
        {
          "output_type": "execute_result",
          "data": {
            "text/plain": [
              "DecisionTreeRegressor(ccp_alpha=0.0, criterion='mse', max_depth=None,\n",
              "                      max_features=None, max_leaf_nodes=None,\n",
              "                      min_impurity_decrease=0.0, min_impurity_split=None,\n",
              "                      min_samples_leaf=1, min_samples_split=2,\n",
              "                      min_weight_fraction_leaf=0.0, presort='deprecated',\n",
              "                      random_state=42, splitter='best')"
            ]
          },
          "metadata": {
            "tags": []
          },
          "execution_count": 69
        }
      ]
    },
    {
      "cell_type": "code",
      "metadata": {
        "id": "Ou2kGX88EBla",
        "colab_type": "code",
        "colab": {
          "base_uri": "https://localhost:8080/",
          "height": 34
        },
        "outputId": "b491780c-5b56-41de-88f4-8b6b5ec736f1"
      },
      "source": [
        "from sklearn.metrics import mean_squared_error\n",
        "\n",
        "housing_predictions = tree_reg.predict(train_num_dummies)\n",
        "tree_mse = mean_squared_error(train_y, housing_predictions)\n",
        "tree_rmse = np.sqrt(tree_mse)\n",
        "tree_rmse"
      ],
      "execution_count": 71,
      "outputs": [
        {
          "output_type": "execute_result",
          "data": {
            "text/plain": [
              "3.1371236041042935e-05"
            ]
          },
          "metadata": {
            "tags": []
          },
          "execution_count": 71
        }
      ]
    },
    {
      "cell_type": "markdown",
      "metadata": {
        "id": "IlSdQ7GuFYYw",
        "colab_type": "text"
      },
      "source": [
        "Hmm: The RMSE is very small, no error at all? Could this model is overfitting? How can we be sure? The best way is to use Cross-Validation to check out.\n",
        "[link text](https://)"
      ]
    },
    {
      "cell_type": "code",
      "metadata": {
        "id": "1vbaVgo1GGu4",
        "colab_type": "code",
        "colab": {
          "base_uri": "https://localhost:8080/",
          "height": 85
        },
        "outputId": "0e1e0992-1480-4f10-8482-57da2a18608c"
      },
      "source": [
        "from sklearn.model_selection import cross_val_score\n",
        "\n",
        "# we get the best RMSE on train_num_dummies (other processed train data result in worse result)\n",
        "scores = cross_val_score(tree_reg, train_num_dummies, train_y,\n",
        "                         scoring=\"neg_mean_squared_error\", cv=10)\n",
        "tree_rmse_scores = np.sqrt(-scores)\n",
        "\n",
        "def display_scores(scores):\n",
        "    print(\"Scores:\", scores)\n",
        "    print(\"Mean:\", scores.mean())\n",
        "    print(\"Standard deviation:\", scores.std())\n",
        "\n",
        "display_scores(tree_rmse_scores)"
      ],
      "execution_count": 76,
      "outputs": [
        {
          "output_type": "stream",
          "text": [
            "Scores: [0.22561559 0.19188899 0.21806381 0.21662062 0.25822495 0.23614076\n",
            " 0.26355852 0.17468501 0.19446544 0.19047812]\n",
            "Mean: 0.21697418037258767\n",
            "Standard deviation: 0.02818048275228125\n"
          ],
          "name": "stdout"
        }
      ]
    },
    {
      "cell_type": "markdown",
      "metadata": {
        "id": "ENEsnS5QHD5F",
        "colab_type": "text"
      },
      "source": [
        "Now the Decision Tree doesn't look as good as it did earlir. In fact, it seems to perform worse than the Linear Regression model (RMSE = 0.16756415851270265). The Decision Tree is overfitting so badly that it performs worse than the Linear Regression Model."
      ]
    },
    {
      "cell_type": "markdown",
      "metadata": {
        "id": "fqJXlBI5LBLp",
        "colab_type": "text"
      },
      "source": [
        "##Now, let's try another model: the Random Forest Regressor.\n",
        "\n",
        "Random Forests work by training many Decision Trees on random subsets of the features, then averaging out their predictions.\n"
      ]
    },
    {
      "cell_type": "code",
      "metadata": {
        "id": "agwCgC-VLawS",
        "colab_type": "code",
        "colab": {
          "base_uri": "https://localhost:8080/",
          "height": 34
        },
        "outputId": "2606291a-cfcf-4da6-aa11-3f4c5af1f079"
      },
      "source": [
        "from sklearn.ensemble import RandomForestRegressor\n",
        "\n",
        "forest_reg = RandomForestRegressor(random_state=42)\n",
        "forest_reg.fit(train_num_dummies, train_y)\n",
        "\n",
        "housing_predictions = forest_reg.predict(train_num_dummies)\n",
        "forest_mse = mean_squared_error(train_y, housing_predictions)\n",
        "forest_rmse = np.sqrt(forest_mse)\n",
        "forest_rmse"
      ],
      "execution_count": 91,
      "outputs": [
        {
          "output_type": "execute_result",
          "data": {
            "text/plain": [
              "0.05583394480677634"
            ]
          },
          "metadata": {
            "tags": []
          },
          "execution_count": 91
        }
      ]
    },
    {
      "cell_type": "code",
      "metadata": {
        "id": "sSkUJfGpNf0q",
        "colab_type": "code",
        "colab": {
          "base_uri": "https://localhost:8080/",
          "height": 85
        },
        "outputId": "083b3252-6d97-4bdc-b152-45c1ff8543c9"
      },
      "source": [
        "from sklearn.model_selection import cross_val_score\n",
        "\n",
        "forest_scores = cross_val_score(forest_reg, train_num_dummies, train_y,\n",
        "                                scoring=\"neg_mean_squared_error\", cv=10)\n",
        "forest_rmse_scores = np.sqrt(-forest_scores)\n",
        "display_scores(forest_rmse_scores)"
      ],
      "execution_count": 92,
      "outputs": [
        {
          "output_type": "stream",
          "text": [
            "Scores: [0.16272204 0.14020929 0.12254776 0.1203961  0.19216575 0.15503283\n",
            " 0.18489193 0.12524453 0.13609442 0.15672899]\n",
            "Mean: 0.14960336269983143\n",
            "Standard deviation: 0.023996573813716036\n"
          ],
          "name": "stdout"
        }
      ]
    },
    {
      "cell_type": "markdown",
      "metadata": {
        "id": "fdtzs5J3NF1i",
        "colab_type": "text"
      },
      "source": [
        "It is **better**: Random Forest look very promising. But is there a way to fine-tune our models? Grid Search !"
      ]
    },
    {
      "cell_type": "markdown",
      "metadata": {
        "id": "WtWIBr-vOkOO",
        "colab_type": "text"
      },
      "source": [
        "## Fine-Tune Random Forest Model"
      ]
    },
    {
      "cell_type": "code",
      "metadata": {
        "id": "aLha1dKvOpS8",
        "colab_type": "code",
        "colab": {
          "base_uri": "https://localhost:8080/",
          "height": 374
        },
        "outputId": "d6c8b71f-1563-422a-e9a5-7a80dec0058f"
      },
      "source": [
        "from sklearn.model_selection import GridSearchCV\n",
        "\n",
        "param_grid = [\n",
        "    # try 12 (3×4) combinations of hyperparameters\n",
        "    {'n_estimators': [3, 10, 30], 'max_features': [2, 4, 6, 8]},\n",
        "    # then try 6 (2×3) combinations with bootstrap set as False\n",
        "    {'bootstrap': [False], 'n_estimators': [3, 10], 'max_features': [2, 3, 4]},\n",
        "  ]\n",
        "\n",
        "forest_reg = RandomForestRegressor(random_state=42)\n",
        "# train across 5 folds, that's a total of (12+6)*5=90 rounds of training \n",
        "grid_search = GridSearchCV(forest_reg, param_grid, cv=10,\n",
        "                           scoring='neg_mean_squared_error',\n",
        "                           return_train_score=True)\n",
        "grid_search.fit(train_num_dummies, train_y)\n"
      ],
      "execution_count": 93,
      "outputs": [
        {
          "output_type": "execute_result",
          "data": {
            "text/plain": [
              "GridSearchCV(cv=10, error_score=nan,\n",
              "             estimator=RandomForestRegressor(bootstrap=True, ccp_alpha=0.0,\n",
              "                                             criterion='mse', max_depth=None,\n",
              "                                             max_features='auto',\n",
              "                                             max_leaf_nodes=None,\n",
              "                                             max_samples=None,\n",
              "                                             min_impurity_decrease=0.0,\n",
              "                                             min_impurity_split=None,\n",
              "                                             min_samples_leaf=1,\n",
              "                                             min_samples_split=2,\n",
              "                                             min_weight_fraction_leaf=0.0,\n",
              "                                             n_estimators=100, n_jobs=None,\n",
              "                                             oob_score=False, random_state=42,\n",
              "                                             verbose=0, warm_start=False),\n",
              "             iid='deprecated', n_jobs=None,\n",
              "             param_grid=[{'max_features': [2, 4, 6, 8],\n",
              "                          'n_estimators': [3, 10, 30]},\n",
              "                         {'bootstrap': [False], 'max_features': [2, 3, 4],\n",
              "                          'n_estimators': [3, 10]}],\n",
              "             pre_dispatch='2*n_jobs', refit=True, return_train_score=True,\n",
              "             scoring='neg_mean_squared_error', verbose=0)"
            ]
          },
          "metadata": {
            "tags": []
          },
          "execution_count": 93
        }
      ]
    },
    {
      "cell_type": "markdown",
      "metadata": {
        "id": "jrPcppJZO3eU",
        "colab_type": "text"
      },
      "source": [
        "The best hyperparameter combination found:\n"
      ]
    },
    {
      "cell_type": "code",
      "metadata": {
        "id": "2TKhdcNdO_ip",
        "colab_type": "code",
        "colab": {
          "base_uri": "https://localhost:8080/",
          "height": 34
        },
        "outputId": "86c5b0a4-06df-497c-9d8a-2f867f4f2178"
      },
      "source": [
        "grid_search.best_params_"
      ],
      "execution_count": 94,
      "outputs": [
        {
          "output_type": "execute_result",
          "data": {
            "text/plain": [
              "{'max_features': 8, 'n_estimators': 30}"
            ]
          },
          "metadata": {
            "tags": []
          },
          "execution_count": 94
        }
      ]
    },
    {
      "cell_type": "code",
      "metadata": {
        "id": "sveCUQV1SciI",
        "colab_type": "code",
        "colab": {
          "base_uri": "https://localhost:8080/",
          "height": 323
        },
        "outputId": "9be9d043-d210-49f4-ca4a-7fefabc8fc2c"
      },
      "source": [
        "cvres = grid_search.cv_results_\n",
        "for mean_score, params in zip(cvres[\"mean_test_score\"], cvres[\"params\"]):\n",
        "    print(np.sqrt(-mean_score), params)"
      ],
      "execution_count": 96,
      "outputs": [
        {
          "output_type": "stream",
          "text": [
            "0.24156462148952976 {'max_features': 2, 'n_estimators': 3}\n",
            "0.1946891169587433 {'max_features': 2, 'n_estimators': 10}\n",
            "0.18567191374415762 {'max_features': 2, 'n_estimators': 30}\n",
            "0.22071476026760872 {'max_features': 4, 'n_estimators': 3}\n",
            "0.19150434041128134 {'max_features': 4, 'n_estimators': 10}\n",
            "0.1766546878702578 {'max_features': 4, 'n_estimators': 30}\n",
            "0.21882262374928937 {'max_features': 6, 'n_estimators': 3}\n",
            "0.18293350619551124 {'max_features': 6, 'n_estimators': 10}\n",
            "0.17271797293606636 {'max_features': 6, 'n_estimators': 30}\n",
            "0.21292157723979507 {'max_features': 8, 'n_estimators': 3}\n",
            "0.18162904939049287 {'max_features': 8, 'n_estimators': 10}\n",
            "0.17118087139021418 {'max_features': 8, 'n_estimators': 30}\n",
            "0.2334733380169862 {'bootstrap': False, 'max_features': 2, 'n_estimators': 3}\n",
            "0.19436040761533352 {'bootstrap': False, 'max_features': 2, 'n_estimators': 10}\n",
            "0.2198644455355652 {'bootstrap': False, 'max_features': 3, 'n_estimators': 3}\n",
            "0.18631439099968314 {'bootstrap': False, 'max_features': 3, 'n_estimators': 10}\n",
            "0.21224804790953958 {'bootstrap': False, 'max_features': 4, 'n_estimators': 3}\n",
            "0.1826834011280734 {'bootstrap': False, 'max_features': 4, 'n_estimators': 10}\n"
          ],
          "name": "stdout"
        }
      ]
    },
    {
      "cell_type": "markdown",
      "metadata": {
        "id": "T_P4VmIfTWWe",
        "colab_type": "text"
      },
      "source": [
        "Curiously, our result of Grid Search is not as good as without it. Let's try out RandomizeSearchCV"
      ]
    },
    {
      "cell_type": "code",
      "metadata": {
        "id": "KoKePV8iTpNN",
        "colab_type": "code",
        "colab": {
          "base_uri": "https://localhost:8080/",
          "height": 391
        },
        "outputId": "e4fdd068-2e51-4014-a70e-66b989b2f2a1"
      },
      "source": [
        "from sklearn.model_selection import RandomizedSearchCV\n",
        "from scipy.stats import randint\n",
        "\n",
        "param_distribs = {\n",
        "        'n_estimators': randint(low=1, high=200),\n",
        "        'max_features': randint(low=1, high=8),\n",
        "    }\n",
        "\n",
        "forest_reg = RandomForestRegressor(random_state=42)\n",
        "rnd_search = RandomizedSearchCV(forest_reg, param_distributions=param_distribs,\n",
        "                                n_iter=10, cv=10, scoring='neg_mean_squared_error', random_state=42)\n",
        "rnd_search.fit(train_num_dummies, train_y)"
      ],
      "execution_count": 97,
      "outputs": [
        {
          "output_type": "execute_result",
          "data": {
            "text/plain": [
              "RandomizedSearchCV(cv=10, error_score=nan,\n",
              "                   estimator=RandomForestRegressor(bootstrap=True,\n",
              "                                                   ccp_alpha=0.0,\n",
              "                                                   criterion='mse',\n",
              "                                                   max_depth=None,\n",
              "                                                   max_features='auto',\n",
              "                                                   max_leaf_nodes=None,\n",
              "                                                   max_samples=None,\n",
              "                                                   min_impurity_decrease=0.0,\n",
              "                                                   min_impurity_split=None,\n",
              "                                                   min_samples_leaf=1,\n",
              "                                                   min_samples_split=2,\n",
              "                                                   min_weight_fraction_leaf=0.0,\n",
              "                                                   n_estimators=100,\n",
              "                                                   n_jobs=None, oob_score=Fal...\n",
              "                                                   warm_start=False),\n",
              "                   iid='deprecated', n_iter=10, n_jobs=None,\n",
              "                   param_distributions={'max_features': <scipy.stats._distn_infrastructure.rv_frozen object at 0x7f4a042c86d8>,\n",
              "                                        'n_estimators': <scipy.stats._distn_infrastructure.rv_frozen object at 0x7f4a04402198>},\n",
              "                   pre_dispatch='2*n_jobs', random_state=42, refit=True,\n",
              "                   return_train_score=False, scoring='neg_mean_squared_error',\n",
              "                   verbose=0)"
            ]
          },
          "metadata": {
            "tags": []
          },
          "execution_count": 97
        }
      ]
    },
    {
      "cell_type": "code",
      "metadata": {
        "id": "FdrgcxyrT9ih",
        "colab_type": "code",
        "colab": {
          "base_uri": "https://localhost:8080/",
          "height": 187
        },
        "outputId": "fccd8256-74c7-4ef4-ed61-d404c2823a4b"
      },
      "source": [
        "cvres = rnd_search.cv_results_\n",
        "for mean_score, params in zip(cvres[\"mean_test_score\"], cvres[\"params\"]):\n",
        "    print(np.sqrt(-mean_score), params)"
      ],
      "execution_count": 98,
      "outputs": [
        {
          "output_type": "stream",
          "text": [
            "0.16282209433140452 {'max_features': 7, 'n_estimators': 180}\n",
            "0.1761238705345868 {'max_features': 5, 'n_estimators': 15}\n",
            "0.1765574894647687 {'max_features': 3, 'n_estimators': 72}\n",
            "0.17625938410276895 {'max_features': 5, 'n_estimators': 21}\n",
            "0.16370962571757172 {'max_features': 7, 'n_estimators': 122}\n",
            "0.1763015557807145 {'max_features': 3, 'n_estimators': 75}\n",
            "0.1764155870287767 {'max_features': 3, 'n_estimators': 88}\n",
            "0.16930213266111102 {'max_features': 5, 'n_estimators': 100}\n",
            "0.17579939148540272 {'max_features': 3, 'n_estimators': 150}\n",
            "0.24003346455334978 {'max_features': 5, 'n_estimators': 2}\n"
          ],
          "name": "stdout"
        }
      ]
    },
    {
      "cell_type": "markdown",
      "metadata": {
        "id": "IstCcPDpUQfc",
        "colab_type": "text"
      },
      "source": [
        "RandomizedSearchCV results in better result but globally, Random Forest is still not much better than Linear Regression Model.\n",
        "\n"
      ]
    },
    {
      "cell_type": "markdown",
      "metadata": {
        "id": "F79uiHiqUfgM",
        "colab_type": "text"
      },
      "source": [
        "## Let's see which features are the most important to our models"
      ]
    },
    {
      "cell_type": "code",
      "metadata": {
        "id": "YIZdFblGUk0D",
        "colab_type": "code",
        "colab": {
          "base_uri": "https://localhost:8080/",
          "height": 187
        },
        "outputId": "6e374de6-f5b9-4b5b-86ce-3aa53e008d54"
      },
      "source": [
        "feature_importances = grid_search.best_estimator_.feature_importances_\n",
        "feature_importances\n",
        "colnames=train_num_dummies.columns.values.tolist()\n",
        "feature_sorted=sorted(zip(feature_importances, colnames), reverse=True)\n",
        "feature_sorted[0:10]"
      ],
      "execution_count": 104,
      "outputs": [
        {
          "output_type": "execute_result",
          "data": {
            "text/plain": [
              "[(0.05664239846626932, 'TotalBsmtSF'),\n",
              " (0.054129855381588675, 'OverallQual'),\n",
              " (0.05307823565008385, 'YearBuilt'),\n",
              " (0.043929226570570724, '1stFlrSF'),\n",
              " (0.04265578249804336, 'GarageCars'),\n",
              " (0.039695657036795576, 'GrLivArea'),\n",
              " (0.03305971424711065, 'FullBath'),\n",
              " (0.03099901118092924, 'OpenPorchSF'),\n",
              " (0.029905398184901642, 'LotFrontage'),\n",
              " (0.029286805418496938, 'KitchenQual_TA')]"
            ]
          },
          "metadata": {
            "tags": []
          },
          "execution_count": 104
        }
      ]
    },
    {
      "cell_type": "code",
      "metadata": {
        "id": "RsRofd80ULDX",
        "colab_type": "code",
        "colab": {}
      },
      "source": [
        ""
      ],
      "execution_count": 0,
      "outputs": []
    }
  ]
}